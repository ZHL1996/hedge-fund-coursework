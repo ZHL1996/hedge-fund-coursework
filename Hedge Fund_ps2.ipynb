{
 "cells": [
  {
   "cell_type": "code",
   "execution_count": 1,
   "metadata": {},
   "outputs": [],
   "source": [
    "import numpy as np\n",
    "import pandas as pd\n",
    "import matplotlib.pyplot as plt\n",
    "file= \"PS_2_Performance_Measurement (2).xlsx\""
   ]
  },
  {
   "cell_type": "code",
   "execution_count": 2,
   "metadata": {},
   "outputs": [
    {
     "data": {
      "text/html": [
       "<div>\n",
       "<style scoped>\n",
       "    .dataframe tbody tr th:only-of-type {\n",
       "        vertical-align: middle;\n",
       "    }\n",
       "\n",
       "    .dataframe tbody tr th {\n",
       "        vertical-align: top;\n",
       "    }\n",
       "\n",
       "    .dataframe thead th {\n",
       "        text-align: right;\n",
       "    }\n",
       "</style>\n",
       "<table border=\"1\" class=\"dataframe\">\n",
       "  <thead>\n",
       "    <tr style=\"text-align: right;\">\n",
       "      <th></th>\n",
       "      <th>RF</th>\n",
       "      <th>Mkt-RF</th>\n",
       "      <th>SMB</th>\n",
       "      <th>HML</th>\n",
       "      <th>UMD</th>\n",
       "    </tr>\n",
       "    <tr>\n",
       "      <th>date</th>\n",
       "      <th></th>\n",
       "      <th></th>\n",
       "      <th></th>\n",
       "      <th></th>\n",
       "      <th></th>\n",
       "    </tr>\n",
       "  </thead>\n",
       "  <tbody>\n",
       "    <tr>\n",
       "      <th>1994-01-31</th>\n",
       "      <td>0.0025</td>\n",
       "      <td>0.0290</td>\n",
       "      <td>0.0011</td>\n",
       "      <td>0.0215</td>\n",
       "      <td>0.0009</td>\n",
       "    </tr>\n",
       "    <tr>\n",
       "      <th>1994-02-28</th>\n",
       "      <td>0.0021</td>\n",
       "      <td>-0.0263</td>\n",
       "      <td>0.0272</td>\n",
       "      <td>-0.0137</td>\n",
       "      <td>-0.0027</td>\n",
       "    </tr>\n",
       "    <tr>\n",
       "      <th>1994-03-31</th>\n",
       "      <td>0.0027</td>\n",
       "      <td>-0.0485</td>\n",
       "      <td>-0.0090</td>\n",
       "      <td>0.0129</td>\n",
       "      <td>-0.0131</td>\n",
       "    </tr>\n",
       "    <tr>\n",
       "      <th>1994-04-29</th>\n",
       "      <td>0.0027</td>\n",
       "      <td>0.0068</td>\n",
       "      <td>-0.0088</td>\n",
       "      <td>0.0166</td>\n",
       "      <td>0.0039</td>\n",
       "    </tr>\n",
       "    <tr>\n",
       "      <th>1994-05-31</th>\n",
       "      <td>0.0032</td>\n",
       "      <td>0.0062</td>\n",
       "      <td>-0.0205</td>\n",
       "      <td>0.0012</td>\n",
       "      <td>-0.0222</td>\n",
       "    </tr>\n",
       "    <tr>\n",
       "      <th>...</th>\n",
       "      <td>...</td>\n",
       "      <td>...</td>\n",
       "      <td>...</td>\n",
       "      <td>...</td>\n",
       "      <td>...</td>\n",
       "    </tr>\n",
       "    <tr>\n",
       "      <th>2012-02-29</th>\n",
       "      <td>0.0000</td>\n",
       "      <td>0.0420</td>\n",
       "      <td>-0.0160</td>\n",
       "      <td>-0.0003</td>\n",
       "      <td>-0.0027</td>\n",
       "    </tr>\n",
       "    <tr>\n",
       "      <th>2012-03-30</th>\n",
       "      <td>0.0000</td>\n",
       "      <td>0.0252</td>\n",
       "      <td>-0.0019</td>\n",
       "      <td>0.0002</td>\n",
       "      <td>0.0149</td>\n",
       "    </tr>\n",
       "    <tr>\n",
       "      <th>2012-04-30</th>\n",
       "      <td>0.0000</td>\n",
       "      <td>-0.0069</td>\n",
       "      <td>-0.0058</td>\n",
       "      <td>-0.0019</td>\n",
       "      <td>0.0394</td>\n",
       "    </tr>\n",
       "    <tr>\n",
       "      <th>2012-05-31</th>\n",
       "      <td>0.0001</td>\n",
       "      <td>-0.0659</td>\n",
       "      <td>-0.0002</td>\n",
       "      <td>0.0019</td>\n",
       "      <td>0.0665</td>\n",
       "    </tr>\n",
       "    <tr>\n",
       "      <th>2012-06-29</th>\n",
       "      <td>0.0000</td>\n",
       "      <td>0.0385</td>\n",
       "      <td>0.0085</td>\n",
       "      <td>0.0037</td>\n",
       "      <td>-0.0096</td>\n",
       "    </tr>\n",
       "  </tbody>\n",
       "</table>\n",
       "<p>222 rows × 5 columns</p>\n",
       "</div>"
      ],
      "text/plain": [
       "                RF  Mkt-RF     SMB     HML     UMD\n",
       "date                                              \n",
       "1994-01-31  0.0025  0.0290  0.0011  0.0215  0.0009\n",
       "1994-02-28  0.0021 -0.0263  0.0272 -0.0137 -0.0027\n",
       "1994-03-31  0.0027 -0.0485 -0.0090  0.0129 -0.0131\n",
       "1994-04-29  0.0027  0.0068 -0.0088  0.0166  0.0039\n",
       "1994-05-31  0.0032  0.0062 -0.0205  0.0012 -0.0222\n",
       "...            ...     ...     ...     ...     ...\n",
       "2012-02-29  0.0000  0.0420 -0.0160 -0.0003 -0.0027\n",
       "2012-03-30  0.0000  0.0252 -0.0019  0.0002  0.0149\n",
       "2012-04-30  0.0000 -0.0069 -0.0058 -0.0019  0.0394\n",
       "2012-05-31  0.0001 -0.0659 -0.0002  0.0019  0.0665\n",
       "2012-06-29  0.0000  0.0385  0.0085  0.0037 -0.0096\n",
       "\n",
       "[222 rows x 5 columns]"
      ]
     },
     "execution_count": 2,
     "metadata": {},
     "output_type": "execute_result"
    }
   ],
   "source": [
    "factors = pd.read_excel(file,sheet_name=\"factors\", parse_dates=[\"date\"], index_col=\"date\")\n",
    "factors"
   ]
  },
  {
   "cell_type": "code",
   "execution_count": 3,
   "metadata": {},
   "outputs": [
    {
     "data": {
      "text/html": [
       "<div>\n",
       "<style scoped>\n",
       "    .dataframe tbody tr th:only-of-type {\n",
       "        vertical-align: middle;\n",
       "    }\n",
       "\n",
       "    .dataframe tbody tr th {\n",
       "        vertical-align: top;\n",
       "    }\n",
       "\n",
       "    .dataframe thead th {\n",
       "        text-align: right;\n",
       "    }\n",
       "</style>\n",
       "<table border=\"1\" class=\"dataframe\">\n",
       "  <thead>\n",
       "    <tr style=\"text-align: right;\">\n",
       "      <th></th>\n",
       "      <th>Ln/Sh Eq Hedge Fund USD</th>\n",
       "      <th>Eq Mkt Ntr Hedge Fund USD</th>\n",
       "      <th>Ded Sh Bs Hedge Fund USD</th>\n",
       "      <th>Global Mac Hedge Fund USD</th>\n",
       "      <th>Mngd Fut Hedge Fund USD</th>\n",
       "      <th>Emg Mkts Hedge Fund USD</th>\n",
       "      <th>Evnt Drvn Hedge Fund USD</th>\n",
       "      <th>Cnvrt Arb Hedge Fund USD</th>\n",
       "      <th>Fx Inc Arb Hedge Fund USD</th>\n",
       "      <th>DJCS Hedge Fund USD</th>\n",
       "    </tr>\n",
       "    <tr>\n",
       "      <th>date</th>\n",
       "      <th></th>\n",
       "      <th></th>\n",
       "      <th></th>\n",
       "      <th></th>\n",
       "      <th></th>\n",
       "      <th></th>\n",
       "      <th></th>\n",
       "      <th></th>\n",
       "      <th></th>\n",
       "      <th></th>\n",
       "    </tr>\n",
       "  </thead>\n",
       "  <tbody>\n",
       "    <tr>\n",
       "      <th>1994-01-31</th>\n",
       "      <td>0.011733</td>\n",
       "      <td>-0.005467</td>\n",
       "      <td>-0.016267</td>\n",
       "      <td>0.001433</td>\n",
       "      <td>0.001933</td>\n",
       "      <td>0.105133</td>\n",
       "      <td>0.036533</td>\n",
       "      <td>0.003333</td>\n",
       "      <td>0.012733</td>\n",
       "      <td>0.011133</td>\n",
       "    </tr>\n",
       "    <tr>\n",
       "      <th>1994-02-28</th>\n",
       "      <td>-0.025011</td>\n",
       "      <td>0.002106</td>\n",
       "      <td>0.019713</td>\n",
       "      <td>-0.056811</td>\n",
       "      <td>0.011667</td>\n",
       "      <td>-0.011705</td>\n",
       "      <td>-0.001850</td>\n",
       "      <td>0.001188</td>\n",
       "      <td>-0.020346</td>\n",
       "      <td>-0.041240</td>\n",
       "    </tr>\n",
       "    <tr>\n",
       "      <th>1994-03-31</th>\n",
       "      <td>-0.039114</td>\n",
       "      <td>-0.002514</td>\n",
       "      <td>0.071827</td>\n",
       "      <td>-0.042854</td>\n",
       "      <td>0.025923</td>\n",
       "      <td>-0.046227</td>\n",
       "      <td>-0.013051</td>\n",
       "      <td>-0.009758</td>\n",
       "      <td>-0.016930</td>\n",
       "      <td>-0.035777</td>\n",
       "    </tr>\n",
       "    <tr>\n",
       "      <th>1994-04-29</th>\n",
       "      <td>-0.015720</td>\n",
       "      <td>0.002397</td>\n",
       "      <td>0.012710</td>\n",
       "      <td>-0.016033</td>\n",
       "      <td>0.008437</td>\n",
       "      <td>-0.083673</td>\n",
       "      <td>-0.006673</td>\n",
       "      <td>-0.025332</td>\n",
       "      <td>-0.002165</td>\n",
       "      <td>-0.017542</td>\n",
       "    </tr>\n",
       "    <tr>\n",
       "      <th>1994-05-31</th>\n",
       "      <td>0.005550</td>\n",
       "      <td>-0.001229</td>\n",
       "      <td>0.022357</td>\n",
       "      <td>0.037839</td>\n",
       "      <td>0.007497</td>\n",
       "      <td>-0.007453</td>\n",
       "      <td>-0.001604</td>\n",
       "      <td>-0.010329</td>\n",
       "      <td>0.007780</td>\n",
       "      <td>0.022178</td>\n",
       "    </tr>\n",
       "    <tr>\n",
       "      <th>...</th>\n",
       "      <td>...</td>\n",
       "      <td>...</td>\n",
       "      <td>...</td>\n",
       "      <td>...</td>\n",
       "      <td>...</td>\n",
       "      <td>...</td>\n",
       "      <td>...</td>\n",
       "      <td>...</td>\n",
       "      <td>...</td>\n",
       "      <td>...</td>\n",
       "    </tr>\n",
       "    <tr>\n",
       "      <th>2012-02-29</th>\n",
       "      <td>0.026418</td>\n",
       "      <td>0.013335</td>\n",
       "      <td>-0.046567</td>\n",
       "      <td>0.007852</td>\n",
       "      <td>0.012039</td>\n",
       "      <td>0.029177</td>\n",
       "      <td>0.015809</td>\n",
       "      <td>0.018784</td>\n",
       "      <td>0.010017</td>\n",
       "      <td>0.016091</td>\n",
       "    </tr>\n",
       "    <tr>\n",
       "      <th>2012-03-30</th>\n",
       "      <td>0.004998</td>\n",
       "      <td>-0.001553</td>\n",
       "      <td>-0.013541</td>\n",
       "      <td>-0.004271</td>\n",
       "      <td>-0.029648</td>\n",
       "      <td>-0.007012</td>\n",
       "      <td>0.007863</td>\n",
       "      <td>0.005535</td>\n",
       "      <td>0.007377</td>\n",
       "      <td>0.000478</td>\n",
       "    </tr>\n",
       "    <tr>\n",
       "      <th>2012-04-30</th>\n",
       "      <td>-0.004680</td>\n",
       "      <td>-0.004139</td>\n",
       "      <td>-0.025323</td>\n",
       "      <td>-0.002522</td>\n",
       "      <td>0.004299</td>\n",
       "      <td>0.001492</td>\n",
       "      <td>-0.002299</td>\n",
       "      <td>-0.002381</td>\n",
       "      <td>0.006870</td>\n",
       "      <td>-0.000423</td>\n",
       "    </tr>\n",
       "    <tr>\n",
       "      <th>2012-05-31</th>\n",
       "      <td>-0.045274</td>\n",
       "      <td>-0.031806</td>\n",
       "      <td>0.090337</td>\n",
       "      <td>0.001936</td>\n",
       "      <td>0.023829</td>\n",
       "      <td>-0.037889</td>\n",
       "      <td>-0.013256</td>\n",
       "      <td>-0.008387</td>\n",
       "      <td>0.002377</td>\n",
       "      <td>-0.013319</td>\n",
       "    </tr>\n",
       "    <tr>\n",
       "      <th>2012-06-29</th>\n",
       "      <td>0.003438</td>\n",
       "      <td>0.009249</td>\n",
       "      <td>-0.027231</td>\n",
       "      <td>-0.013726</td>\n",
       "      <td>-0.035612</td>\n",
       "      <td>-0.001355</td>\n",
       "      <td>-0.001814</td>\n",
       "      <td>0.003276</td>\n",
       "      <td>0.007563</td>\n",
       "      <td>-0.004017</td>\n",
       "    </tr>\n",
       "  </tbody>\n",
       "</table>\n",
       "<p>222 rows × 10 columns</p>\n",
       "</div>"
      ],
      "text/plain": [
       "            Ln/Sh Eq Hedge Fund USD  Eq Mkt Ntr Hedge Fund USD  \\\n",
       "date                                                             \n",
       "1994-01-31                 0.011733                  -0.005467   \n",
       "1994-02-28                -0.025011                   0.002106   \n",
       "1994-03-31                -0.039114                  -0.002514   \n",
       "1994-04-29                -0.015720                   0.002397   \n",
       "1994-05-31                 0.005550                  -0.001229   \n",
       "...                             ...                        ...   \n",
       "2012-02-29                 0.026418                   0.013335   \n",
       "2012-03-30                 0.004998                  -0.001553   \n",
       "2012-04-30                -0.004680                  -0.004139   \n",
       "2012-05-31                -0.045274                  -0.031806   \n",
       "2012-06-29                 0.003438                   0.009249   \n",
       "\n",
       "            Ded Sh Bs Hedge Fund USD  Global Mac Hedge Fund USD  \\\n",
       "date                                                              \n",
       "1994-01-31                 -0.016267                   0.001433   \n",
       "1994-02-28                  0.019713                  -0.056811   \n",
       "1994-03-31                  0.071827                  -0.042854   \n",
       "1994-04-29                  0.012710                  -0.016033   \n",
       "1994-05-31                  0.022357                   0.037839   \n",
       "...                              ...                        ...   \n",
       "2012-02-29                 -0.046567                   0.007852   \n",
       "2012-03-30                 -0.013541                  -0.004271   \n",
       "2012-04-30                 -0.025323                  -0.002522   \n",
       "2012-05-31                  0.090337                   0.001936   \n",
       "2012-06-29                 -0.027231                  -0.013726   \n",
       "\n",
       "            Mngd Fut Hedge Fund USD  Emg Mkts Hedge Fund USD  \\\n",
       "date                                                           \n",
       "1994-01-31                 0.001933                 0.105133   \n",
       "1994-02-28                 0.011667                -0.011705   \n",
       "1994-03-31                 0.025923                -0.046227   \n",
       "1994-04-29                 0.008437                -0.083673   \n",
       "1994-05-31                 0.007497                -0.007453   \n",
       "...                             ...                      ...   \n",
       "2012-02-29                 0.012039                 0.029177   \n",
       "2012-03-30                -0.029648                -0.007012   \n",
       "2012-04-30                 0.004299                 0.001492   \n",
       "2012-05-31                 0.023829                -0.037889   \n",
       "2012-06-29                -0.035612                -0.001355   \n",
       "\n",
       "            Evnt Drvn Hedge Fund USD  Cnvrt Arb Hedge Fund USD  \\\n",
       "date                                                             \n",
       "1994-01-31                  0.036533                  0.003333   \n",
       "1994-02-28                 -0.001850                  0.001188   \n",
       "1994-03-31                 -0.013051                 -0.009758   \n",
       "1994-04-29                 -0.006673                 -0.025332   \n",
       "1994-05-31                 -0.001604                 -0.010329   \n",
       "...                              ...                       ...   \n",
       "2012-02-29                  0.015809                  0.018784   \n",
       "2012-03-30                  0.007863                  0.005535   \n",
       "2012-04-30                 -0.002299                 -0.002381   \n",
       "2012-05-31                 -0.013256                 -0.008387   \n",
       "2012-06-29                 -0.001814                  0.003276   \n",
       "\n",
       "            Fx Inc Arb Hedge Fund USD  DJCS Hedge Fund USD  \n",
       "date                                                        \n",
       "1994-01-31                   0.012733             0.011133  \n",
       "1994-02-28                  -0.020346            -0.041240  \n",
       "1994-03-31                  -0.016930            -0.035777  \n",
       "1994-04-29                  -0.002165            -0.017542  \n",
       "1994-05-31                   0.007780             0.022178  \n",
       "...                               ...                  ...  \n",
       "2012-02-29                   0.010017             0.016091  \n",
       "2012-03-30                   0.007377             0.000478  \n",
       "2012-04-30                   0.006870            -0.000423  \n",
       "2012-05-31                   0.002377            -0.013319  \n",
       "2012-06-29                   0.007563            -0.004017  \n",
       "\n",
       "[222 rows x 10 columns]"
      ]
     },
     "execution_count": 3,
     "metadata": {},
     "output_type": "execute_result"
    }
   ],
   "source": [
    "rets = pd.read_excel(file,sheet_name=\"total_returns\", parse_dates=[\"date\"], index_col=0)\n",
    "rets"
   ]
  },
  {
   "cell_type": "code",
   "execution_count": 26,
   "metadata": {},
   "outputs": [
    {
     "data": {
      "text/plain": [
       "Ln/Sh Eq Hedge Fund USD       9.04%\n",
       "Eq Mkt Ntr Hedge Fund USD     5.29%\n",
       "Ded Sh Bs Hedge Fund USD     -2.66%\n",
       "Global Mac Hedge Fund USD    11.51%\n",
       "Mngd Fut Hedge Fund USD       6.13%\n",
       "Emg Mkts Hedge Fund USD       7.99%\n",
       "Evnt Drvn Hedge Fund USD      8.83%\n",
       "Cnvrt Arb Hedge Fund USD      7.35%\n",
       "Fx Inc Arb Hedge Fund USD     5.24%\n",
       "DJCS Hedge Fund USD           8.41%\n",
       "dtype: object"
      ]
     },
     "execution_count": 26,
     "metadata": {},
     "output_type": "execute_result"
    }
   ],
   "source": [
    "aa = rets.mean()*12\n",
    "aa.map('{:.2%}'.format)"
   ]
  },
  {
   "cell_type": "code",
   "execution_count": 25,
   "metadata": {},
   "outputs": [
    {
     "data": {
      "text/plain": [
       "Ln/Sh Eq Hedge Fund USD       8.89%\n",
       "Eq Mkt Ntr Hedge Fund USD     4.68%\n",
       "Ded Sh Bs Hedge Fund USD     -4.01%\n",
       "Global Mac Hedge Fund USD    11.63%\n",
       "Mngd Fut Hedge Fund USD       5.59%\n",
       "Emg Mkts Hedge Fund USD       7.08%\n",
       "Evnt Drvn Hedge Fund USD      8.98%\n",
       "Cnvrt Arb Hedge Fund USD      7.34%\n",
       "Fx Inc Arb Hedge Fund USD     5.19%\n",
       "DJCS Hedge Fund USD           8.44%\n",
       "dtype: object"
      ]
     },
     "execution_count": 25,
     "metadata": {},
     "output_type": "execute_result"
    }
   ],
   "source": [
    "ga = (1+rets).prod()**(12/rets.shape[0])-1\n",
    "ga.map('{:.2%}'.format)"
   ]
  },
  {
   "cell_type": "code",
   "execution_count": 41,
   "metadata": {},
   "outputs": [],
   "source": [
    "v = rets.subtract(factors['RF'],axis=0)\n",
    "v = v.std()*np.sqrt(12)"
   ]
  },
  {
   "cell_type": "code",
   "execution_count": 53,
   "metadata": {},
   "outputs": [
    {
     "data": {
      "text/plain": [
       "Ln/Sh Eq Hedge Fund USD      0.605815\n",
       "Eq Mkt Ntr Hedge Fund USD    0.220059\n",
       "Ded Sh Bs Hedge Fund USD    -0.336170\n",
       "Global Mac Hedge Fund USD    0.878311\n",
       "Mngd Fut Hedge Fund USD      0.263863\n",
       "Emg Mkts Hedge Fund USD      0.331944\n",
       "Evnt Drvn Hedge Fund USD     0.920016\n",
       "Cnvrt Arb Hedge Fund USD     0.624601\n",
       "Fx Inc Arb Hedge Fund USD    0.383172\n",
       "DJCS Hedge Fund USD          0.715891\n",
       "dtype: float64"
      ]
     },
     "execution_count": 53,
     "metadata": {},
     "output_type": "execute_result"
    }
   ],
   "source": [
    "(rets.subtract(factors['RF'],axis=0).mean()*12) / v"
   ]
  },
  {
   "cell_type": "code",
   "execution_count": 56,
   "metadata": {},
   "outputs": [
    {
     "data": {
      "text/html": [
       "<div>\n",
       "<style scoped>\n",
       "    .dataframe tbody tr th:only-of-type {\n",
       "        vertical-align: middle;\n",
       "    }\n",
       "\n",
       "    .dataframe tbody tr th {\n",
       "        vertical-align: top;\n",
       "    }\n",
       "\n",
       "    .dataframe thead th {\n",
       "        text-align: right;\n",
       "    }\n",
       "</style>\n",
       "<table border=\"1\" class=\"dataframe\">\n",
       "  <thead>\n",
       "    <tr style=\"text-align: right;\">\n",
       "      <th></th>\n",
       "      <th>Ln/Sh Eq Hedge Fund USD</th>\n",
       "      <th>Eq Mkt Ntr Hedge Fund USD</th>\n",
       "      <th>Ded Sh Bs Hedge Fund USD</th>\n",
       "      <th>Global Mac Hedge Fund USD</th>\n",
       "      <th>Mngd Fut Hedge Fund USD</th>\n",
       "      <th>Emg Mkts Hedge Fund USD</th>\n",
       "      <th>Evnt Drvn Hedge Fund USD</th>\n",
       "      <th>Cnvrt Arb Hedge Fund USD</th>\n",
       "      <th>Fx Inc Arb Hedge Fund USD</th>\n",
       "      <th>DJCS Hedge Fund USD</th>\n",
       "    </tr>\n",
       "    <tr>\n",
       "      <th>date</th>\n",
       "      <th></th>\n",
       "      <th></th>\n",
       "      <th></th>\n",
       "      <th></th>\n",
       "      <th></th>\n",
       "      <th></th>\n",
       "      <th></th>\n",
       "      <th></th>\n",
       "      <th></th>\n",
       "      <th></th>\n",
       "    </tr>\n",
       "  </thead>\n",
       "  <tbody>\n",
       "    <tr>\n",
       "      <th>1994-01-31</th>\n",
       "      <td>0.009233</td>\n",
       "      <td>-0.007967</td>\n",
       "      <td>-0.018767</td>\n",
       "      <td>-0.001067</td>\n",
       "      <td>-0.000567</td>\n",
       "      <td>0.102633</td>\n",
       "      <td>0.034033</td>\n",
       "      <td>0.000833</td>\n",
       "      <td>0.010233</td>\n",
       "      <td>0.008633</td>\n",
       "    </tr>\n",
       "    <tr>\n",
       "      <th>1994-02-28</th>\n",
       "      <td>-0.027111</td>\n",
       "      <td>0.000006</td>\n",
       "      <td>0.017613</td>\n",
       "      <td>-0.058911</td>\n",
       "      <td>0.009567</td>\n",
       "      <td>-0.013805</td>\n",
       "      <td>-0.003950</td>\n",
       "      <td>-0.000912</td>\n",
       "      <td>-0.022446</td>\n",
       "      <td>-0.043340</td>\n",
       "    </tr>\n",
       "    <tr>\n",
       "      <th>1994-03-31</th>\n",
       "      <td>-0.041814</td>\n",
       "      <td>-0.005214</td>\n",
       "      <td>0.069127</td>\n",
       "      <td>-0.045554</td>\n",
       "      <td>0.023223</td>\n",
       "      <td>-0.048927</td>\n",
       "      <td>-0.015751</td>\n",
       "      <td>-0.012458</td>\n",
       "      <td>-0.019630</td>\n",
       "      <td>-0.038477</td>\n",
       "    </tr>\n",
       "    <tr>\n",
       "      <th>1994-04-29</th>\n",
       "      <td>-0.018420</td>\n",
       "      <td>-0.000303</td>\n",
       "      <td>0.010010</td>\n",
       "      <td>-0.018733</td>\n",
       "      <td>0.005737</td>\n",
       "      <td>-0.086373</td>\n",
       "      <td>-0.009373</td>\n",
       "      <td>-0.028032</td>\n",
       "      <td>-0.004865</td>\n",
       "      <td>-0.020242</td>\n",
       "    </tr>\n",
       "    <tr>\n",
       "      <th>1994-05-31</th>\n",
       "      <td>0.002350</td>\n",
       "      <td>-0.004429</td>\n",
       "      <td>0.019157</td>\n",
       "      <td>0.034639</td>\n",
       "      <td>0.004297</td>\n",
       "      <td>-0.010653</td>\n",
       "      <td>-0.004804</td>\n",
       "      <td>-0.013529</td>\n",
       "      <td>0.004580</td>\n",
       "      <td>0.018978</td>\n",
       "    </tr>\n",
       "    <tr>\n",
       "      <th>...</th>\n",
       "      <td>...</td>\n",
       "      <td>...</td>\n",
       "      <td>...</td>\n",
       "      <td>...</td>\n",
       "      <td>...</td>\n",
       "      <td>...</td>\n",
       "      <td>...</td>\n",
       "      <td>...</td>\n",
       "      <td>...</td>\n",
       "      <td>...</td>\n",
       "    </tr>\n",
       "    <tr>\n",
       "      <th>2012-02-29</th>\n",
       "      <td>0.026418</td>\n",
       "      <td>0.013335</td>\n",
       "      <td>-0.046567</td>\n",
       "      <td>0.007852</td>\n",
       "      <td>0.012039</td>\n",
       "      <td>0.029177</td>\n",
       "      <td>0.015809</td>\n",
       "      <td>0.018784</td>\n",
       "      <td>0.010017</td>\n",
       "      <td>0.016091</td>\n",
       "    </tr>\n",
       "    <tr>\n",
       "      <th>2012-03-30</th>\n",
       "      <td>0.004998</td>\n",
       "      <td>-0.001553</td>\n",
       "      <td>-0.013541</td>\n",
       "      <td>-0.004271</td>\n",
       "      <td>-0.029648</td>\n",
       "      <td>-0.007012</td>\n",
       "      <td>0.007863</td>\n",
       "      <td>0.005535</td>\n",
       "      <td>0.007377</td>\n",
       "      <td>0.000478</td>\n",
       "    </tr>\n",
       "    <tr>\n",
       "      <th>2012-04-30</th>\n",
       "      <td>-0.004680</td>\n",
       "      <td>-0.004139</td>\n",
       "      <td>-0.025323</td>\n",
       "      <td>-0.002522</td>\n",
       "      <td>0.004299</td>\n",
       "      <td>0.001492</td>\n",
       "      <td>-0.002299</td>\n",
       "      <td>-0.002381</td>\n",
       "      <td>0.006870</td>\n",
       "      <td>-0.000423</td>\n",
       "    </tr>\n",
       "    <tr>\n",
       "      <th>2012-05-31</th>\n",
       "      <td>-0.045374</td>\n",
       "      <td>-0.031906</td>\n",
       "      <td>0.090237</td>\n",
       "      <td>0.001836</td>\n",
       "      <td>0.023729</td>\n",
       "      <td>-0.037989</td>\n",
       "      <td>-0.013356</td>\n",
       "      <td>-0.008487</td>\n",
       "      <td>0.002277</td>\n",
       "      <td>-0.013419</td>\n",
       "    </tr>\n",
       "    <tr>\n",
       "      <th>2012-06-29</th>\n",
       "      <td>0.003438</td>\n",
       "      <td>0.009249</td>\n",
       "      <td>-0.027231</td>\n",
       "      <td>-0.013726</td>\n",
       "      <td>-0.035612</td>\n",
       "      <td>-0.001355</td>\n",
       "      <td>-0.001814</td>\n",
       "      <td>0.003276</td>\n",
       "      <td>0.007563</td>\n",
       "      <td>-0.004017</td>\n",
       "    </tr>\n",
       "  </tbody>\n",
       "</table>\n",
       "<p>222 rows × 10 columns</p>\n",
       "</div>"
      ],
      "text/plain": [
       "            Ln/Sh Eq Hedge Fund USD  Eq Mkt Ntr Hedge Fund USD  \\\n",
       "date                                                             \n",
       "1994-01-31                 0.009233                  -0.007967   \n",
       "1994-02-28                -0.027111                   0.000006   \n",
       "1994-03-31                -0.041814                  -0.005214   \n",
       "1994-04-29                -0.018420                  -0.000303   \n",
       "1994-05-31                 0.002350                  -0.004429   \n",
       "...                             ...                        ...   \n",
       "2012-02-29                 0.026418                   0.013335   \n",
       "2012-03-30                 0.004998                  -0.001553   \n",
       "2012-04-30                -0.004680                  -0.004139   \n",
       "2012-05-31                -0.045374                  -0.031906   \n",
       "2012-06-29                 0.003438                   0.009249   \n",
       "\n",
       "            Ded Sh Bs Hedge Fund USD  Global Mac Hedge Fund USD  \\\n",
       "date                                                              \n",
       "1994-01-31                 -0.018767                  -0.001067   \n",
       "1994-02-28                  0.017613                  -0.058911   \n",
       "1994-03-31                  0.069127                  -0.045554   \n",
       "1994-04-29                  0.010010                  -0.018733   \n",
       "1994-05-31                  0.019157                   0.034639   \n",
       "...                              ...                        ...   \n",
       "2012-02-29                 -0.046567                   0.007852   \n",
       "2012-03-30                 -0.013541                  -0.004271   \n",
       "2012-04-30                 -0.025323                  -0.002522   \n",
       "2012-05-31                  0.090237                   0.001836   \n",
       "2012-06-29                 -0.027231                  -0.013726   \n",
       "\n",
       "            Mngd Fut Hedge Fund USD  Emg Mkts Hedge Fund USD  \\\n",
       "date                                                           \n",
       "1994-01-31                -0.000567                 0.102633   \n",
       "1994-02-28                 0.009567                -0.013805   \n",
       "1994-03-31                 0.023223                -0.048927   \n",
       "1994-04-29                 0.005737                -0.086373   \n",
       "1994-05-31                 0.004297                -0.010653   \n",
       "...                             ...                      ...   \n",
       "2012-02-29                 0.012039                 0.029177   \n",
       "2012-03-30                -0.029648                -0.007012   \n",
       "2012-04-30                 0.004299                 0.001492   \n",
       "2012-05-31                 0.023729                -0.037989   \n",
       "2012-06-29                -0.035612                -0.001355   \n",
       "\n",
       "            Evnt Drvn Hedge Fund USD  Cnvrt Arb Hedge Fund USD  \\\n",
       "date                                                             \n",
       "1994-01-31                  0.034033                  0.000833   \n",
       "1994-02-28                 -0.003950                 -0.000912   \n",
       "1994-03-31                 -0.015751                 -0.012458   \n",
       "1994-04-29                 -0.009373                 -0.028032   \n",
       "1994-05-31                 -0.004804                 -0.013529   \n",
       "...                              ...                       ...   \n",
       "2012-02-29                  0.015809                  0.018784   \n",
       "2012-03-30                  0.007863                  0.005535   \n",
       "2012-04-30                 -0.002299                 -0.002381   \n",
       "2012-05-31                 -0.013356                 -0.008487   \n",
       "2012-06-29                 -0.001814                  0.003276   \n",
       "\n",
       "            Fx Inc Arb Hedge Fund USD  DJCS Hedge Fund USD  \n",
       "date                                                        \n",
       "1994-01-31                   0.010233             0.008633  \n",
       "1994-02-28                  -0.022446            -0.043340  \n",
       "1994-03-31                  -0.019630            -0.038477  \n",
       "1994-04-29                  -0.004865            -0.020242  \n",
       "1994-05-31                   0.004580             0.018978  \n",
       "...                               ...                  ...  \n",
       "2012-02-29                   0.010017             0.016091  \n",
       "2012-03-30                   0.007377             0.000478  \n",
       "2012-04-30                   0.006870            -0.000423  \n",
       "2012-05-31                   0.002277            -0.013419  \n",
       "2012-06-29                   0.007563            -0.004017  \n",
       "\n",
       "[222 rows x 10 columns]"
      ]
     },
     "execution_count": 56,
     "metadata": {},
     "output_type": "execute_result"
    }
   ],
   "source": [
    "rets.subtract(factors['RF'],axis=0)"
   ]
  },
  {
   "cell_type": "code",
   "execution_count": 58,
   "metadata": {},
   "outputs": [],
   "source": [
    "import statsmodels.api as sm"
   ]
  },
  {
   "cell_type": "code",
   "execution_count": 122,
   "metadata": {},
   "outputs": [],
   "source": [
    "alpha = []\n",
    "beta = []\n",
    "ssr = []\n",
    "for i in range(rets.shape[1]):\n",
    "    y = rets.subtract(factors['RF'],axis=0).iloc[:,i]\n",
    "    x = sm.add_constant(factors['Mkt-RF'])\n",
    "    reg = sm.OLS(y,x).fit()\n",
    "    alpha.append(reg.params[0]*12)\n",
    "    beta.append(reg.params[1])\n",
    "    ssr.append(reg.ssr)\n",
    "ssr = pd.DataFrame(ssr)\n",
    "alpha = pd.DataFrame(alpha)\n",
    "beta = pd.DataFrame(beta)"
   ]
  },
  {
   "cell_type": "code",
   "execution_count": 127,
   "metadata": {},
   "outputs": [
    {
     "data": {
      "text/html": [
       "<div>\n",
       "<style scoped>\n",
       "    .dataframe tbody tr th:only-of-type {\n",
       "        vertical-align: middle;\n",
       "    }\n",
       "\n",
       "    .dataframe tbody tr th {\n",
       "        vertical-align: top;\n",
       "    }\n",
       "\n",
       "    .dataframe thead th {\n",
       "        text-align: right;\n",
       "    }\n",
       "</style>\n",
       "<table border=\"1\" class=\"dataframe\">\n",
       "  <thead>\n",
       "    <tr style=\"text-align: right;\">\n",
       "      <th></th>\n",
       "      <th>0</th>\n",
       "    </tr>\n",
       "  </thead>\n",
       "  <tbody>\n",
       "    <tr>\n",
       "      <th>0</th>\n",
       "      <td>0.493492</td>\n",
       "    </tr>\n",
       "    <tr>\n",
       "      <th>1</th>\n",
       "      <td>0.111189</td>\n",
       "    </tr>\n",
       "    <tr>\n",
       "      <th>2</th>\n",
       "      <td>-0.049140</td>\n",
       "    </tr>\n",
       "    <tr>\n",
       "      <th>3</th>\n",
       "      <td>0.811171</td>\n",
       "    </tr>\n",
       "    <tr>\n",
       "      <th>4</th>\n",
       "      <td>0.303165</td>\n",
       "    </tr>\n",
       "    <tr>\n",
       "      <th>5</th>\n",
       "      <td>0.135688</td>\n",
       "    </tr>\n",
       "    <tr>\n",
       "      <th>6</th>\n",
       "      <td>0.910648</td>\n",
       "    </tr>\n",
       "    <tr>\n",
       "      <th>7</th>\n",
       "      <td>0.517417</td>\n",
       "    </tr>\n",
       "    <tr>\n",
       "      <th>8</th>\n",
       "      <td>0.265368</td>\n",
       "    </tr>\n",
       "    <tr>\n",
       "      <th>9</th>\n",
       "      <td>0.619448</td>\n",
       "    </tr>\n",
       "  </tbody>\n",
       "</table>\n",
       "</div>"
      ],
      "text/plain": [
       "          0\n",
       "0  0.493492\n",
       "1  0.111189\n",
       "2 -0.049140\n",
       "3  0.811171\n",
       "4  0.303165\n",
       "5  0.135688\n",
       "6  0.910648\n",
       "7  0.517417\n",
       "8  0.265368\n",
       "9  0.619448"
      ]
     },
     "execution_count": 127,
     "metadata": {},
     "output_type": "execute_result"
    }
   ],
   "source": [
    "IR = alpha / (ssr / len(factors['RF']) * 12)**0.5\n",
    "IR"
   ]
  },
  {
   "cell_type": "code",
   "execution_count": 130,
   "metadata": {},
   "outputs": [],
   "source": [
    "xrets = rets.subtract(factors['RF'],axis=0)"
   ]
  },
  {
   "cell_type": "code",
   "execution_count": 148,
   "metadata": {},
   "outputs": [
    {
     "data": {
      "text/plain": [
       "Ln/Sh Eq Hedge Fund USD      0.221405\n",
       "Eq Mkt Ntr Hedge Fund USD    0.451340\n",
       "Ded Sh Bs Hedge Fund USD     0.642425\n",
       "Global Mac Hedge Fund USD    0.270007\n",
       "Mngd Fut Hedge Fund USD      0.178773\n",
       "Emg Mkts Hedge Fund USD      0.453265\n",
       "Evnt Drvn Hedge Fund USD     0.192981\n",
       "Cnvrt Arb Hedge Fund USD     0.329975\n",
       "Fx Inc Arb Hedge Fund USD    0.290999\n",
       "DJCS Hedge Fund USD          0.198180\n",
       "dtype: float64"
      ]
     },
     "execution_count": 148,
     "metadata": {},
     "output_type": "execute_result"
    }
   ],
   "source": [
    "cum = (1+rets).cumprod()\n",
    "hwm = cum.expanding().max()\n",
    "dd = ((hwm - cum))/hwm\n",
    "max_dd = dd.max()\n",
    "max_dd"
   ]
  },
  {
   "cell_type": "code",
   "execution_count": 154,
   "metadata": {},
   "outputs": [
    {
     "data": {
      "text/plain": [
       "Ln/Sh Eq Hedge Fund USD      -0.073101\n",
       "Eq Mkt Ntr Hedge Fund USD   -11.994328\n",
       "Ded Sh Bs Hedge Fund USD      0.652690\n",
       "Global Mac Hedge Fund USD    -0.099388\n",
       "Mngd Fut Hedge Fund USD       0.024596\n",
       "Emg Mkts Hedge Fund USD      -0.808588\n",
       "Evnt Drvn Hedge Fund USD     -2.244137\n",
       "Cnvrt Arb Hedge Fund USD     -2.567170\n",
       "Fx Inc Arb Hedge Fund USD    -4.229987\n",
       "DJCS Hedge Fund USD          -0.270168\n",
       "dtype: float64"
      ]
     },
     "execution_count": 154,
     "metadata": {},
     "output_type": "execute_result"
    }
   ],
   "source": [
    "rets.sub(factors['RF'],axis=0).skew()"
   ]
  },
  {
   "cell_type": "code",
   "execution_count": 157,
   "metadata": {},
   "outputs": [
    {
     "data": {
      "text/plain": [
       "Ln/Sh Eq Hedge Fund USD        3.202645\n",
       "Eq Mkt Ntr Hedge Fund USD    165.333476\n",
       "Ded Sh Bs Hedge Fund USD       1.312599\n",
       "Global Mac Hedge Fund USD      3.900989\n",
       "Mngd Fut Hedge Fund USD       -0.025902\n",
       "Emg Mkts Hedge Fund USD        5.143338\n",
       "Evnt Drvn Hedge Fund USD      11.384588\n",
       "Cnvrt Arb Hedge Fund USD      15.817305\n",
       "Fx Inc Arb Hedge Fund USD     29.378431\n",
       "DJCS Hedge Fund USD            2.440956\n",
       "dtype: float64"
      ]
     },
     "execution_count": 157,
     "metadata": {},
     "output_type": "execute_result"
    }
   ],
   "source": [
    "rets.sub(factors['RF'],axis=0).kurtosis() "
   ]
  },
  {
   "cell_type": "code",
   "execution_count": null,
   "metadata": {},
   "outputs": [],
   "source": [
    "\"Global Mac Hedge Fund USD\""
   ]
  },
  {
   "cell_type": "code",
   "execution_count": null,
   "metadata": {},
   "outputs": [],
   "source": []
  },
  {
   "cell_type": "code",
   "execution_count": null,
   "metadata": {},
   "outputs": [],
   "source": []
  },
  {
   "cell_type": "code",
   "execution_count": null,
   "metadata": {},
   "outputs": [],
   "source": []
  },
  {
   "cell_type": "code",
   "execution_count": null,
   "metadata": {},
   "outputs": [],
   "source": []
  },
  {
   "cell_type": "code",
   "execution_count": null,
   "metadata": {},
   "outputs": [],
   "source": []
  },
  {
   "cell_type": "code",
   "execution_count": null,
   "metadata": {},
   "outputs": [],
   "source": []
  },
  {
   "cell_type": "code",
   "execution_count": null,
   "metadata": {},
   "outputs": [],
   "source": []
  },
  {
   "cell_type": "code",
   "execution_count": null,
   "metadata": {},
   "outputs": [],
   "source": []
  },
  {
   "cell_type": "code",
   "execution_count": null,
   "metadata": {},
   "outputs": [],
   "source": []
  },
  {
   "cell_type": "code",
   "execution_count": null,
   "metadata": {},
   "outputs": [],
   "source": []
  },
  {
   "cell_type": "code",
   "execution_count": null,
   "metadata": {},
   "outputs": [],
   "source": []
  },
  {
   "cell_type": "code",
   "execution_count": null,
   "metadata": {},
   "outputs": [],
   "source": []
  },
  {
   "cell_type": "code",
   "execution_count": null,
   "metadata": {},
   "outputs": [],
   "source": []
  },
  {
   "cell_type": "code",
   "execution_count": null,
   "metadata": {},
   "outputs": [],
   "source": []
  },
  {
   "cell_type": "code",
   "execution_count": 59,
   "metadata": {},
   "outputs": [
    {
     "data": {
      "text/plain": [
       "Ln/Sh Eq Hedge Fund USD       9.04%\n",
       "Eq Mkt Ntr Hedge Fund USD     5.29%\n",
       "Ded Sh Bs Hedge Fund USD     -2.66%\n",
       "Global Mac Hedge Fund USD    11.51%\n",
       "Mngd Fut Hedge Fund USD       6.13%\n",
       "Emg Mkts Hedge Fund USD       7.99%\n",
       "Evnt Drvn Hedge Fund USD      8.83%\n",
       "Cnvrt Arb Hedge Fund USD      7.35%\n",
       "Fx Inc Arb Hedge Fund USD     5.24%\n",
       "DJCS Hedge Fund USD           8.41%\n",
       "dtype: object"
      ]
     },
     "execution_count": 59,
     "metadata": {},
     "output_type": "execute_result"
    }
   ],
   "source": [
    "avg_rets = rets.mean() * 12 \n",
    "avg_rets.map(\"{:.2%}\".format)"
   ]
  },
  {
   "cell_type": "code",
   "execution_count": 66,
   "metadata": {},
   "outputs": [
    {
     "data": {
      "text/plain": [
       "Ln/Sh Eq Hedge Fund USD       8.89%\n",
       "Eq Mkt Ntr Hedge Fund USD     4.68%\n",
       "Ded Sh Bs Hedge Fund USD     -4.01%\n",
       "Global Mac Hedge Fund USD    11.63%\n",
       "Mngd Fut Hedge Fund USD       5.59%\n",
       "Emg Mkts Hedge Fund USD       7.08%\n",
       "Evnt Drvn Hedge Fund USD      8.98%\n",
       "Cnvrt Arb Hedge Fund USD      7.34%\n",
       "Fx Inc Arb Hedge Fund USD     5.19%\n",
       "DJCS Hedge Fund USD           8.44%\n",
       "dtype: object"
      ]
     },
     "execution_count": 66,
     "metadata": {},
     "output_type": "execute_result"
    }
   ],
   "source": [
    "geo_rets = (((1+rets).prod()).pow(12/rets.shape[0]) - 1)\n",
    "geo_rets.map(\"{:.2%}\".format)"
   ]
  },
  {
   "cell_type": "code",
   "execution_count": 34,
   "metadata": {},
   "outputs": [
    {
     "data": {
      "text/html": [
       "<div>\n",
       "<style scoped>\n",
       "    .dataframe tbody tr th:only-of-type {\n",
       "        vertical-align: middle;\n",
       "    }\n",
       "\n",
       "    .dataframe tbody tr th {\n",
       "        vertical-align: top;\n",
       "    }\n",
       "\n",
       "    .dataframe thead th {\n",
       "        text-align: right;\n",
       "    }\n",
       "</style>\n",
       "<table border=\"1\" class=\"dataframe\">\n",
       "  <thead>\n",
       "    <tr style=\"text-align: right;\">\n",
       "      <th></th>\n",
       "      <th>Ln/Sh Eq Hedge Fund USD</th>\n",
       "      <th>Eq Mkt Ntr Hedge Fund USD</th>\n",
       "      <th>Ded Sh Bs Hedge Fund USD</th>\n",
       "      <th>Global Mac Hedge Fund USD</th>\n",
       "      <th>Mngd Fut Hedge Fund USD</th>\n",
       "      <th>Emg Mkts Hedge Fund USD</th>\n",
       "      <th>Evnt Drvn Hedge Fund USD</th>\n",
       "      <th>Cnvrt Arb Hedge Fund USD</th>\n",
       "      <th>Fx Inc Arb Hedge Fund USD</th>\n",
       "      <th>DJCS Hedge Fund USD</th>\n",
       "    </tr>\n",
       "    <tr>\n",
       "      <th>date</th>\n",
       "      <th></th>\n",
       "      <th></th>\n",
       "      <th></th>\n",
       "      <th></th>\n",
       "      <th></th>\n",
       "      <th></th>\n",
       "      <th></th>\n",
       "      <th></th>\n",
       "      <th></th>\n",
       "      <th></th>\n",
       "    </tr>\n",
       "  </thead>\n",
       "  <tbody>\n",
       "    <tr>\n",
       "      <th>1994-01-31</th>\n",
       "      <td>0.009233</td>\n",
       "      <td>-0.007967</td>\n",
       "      <td>-0.018767</td>\n",
       "      <td>-0.001067</td>\n",
       "      <td>-0.000567</td>\n",
       "      <td>0.102633</td>\n",
       "      <td>0.034033</td>\n",
       "      <td>0.000833</td>\n",
       "      <td>0.010233</td>\n",
       "      <td>0.008633</td>\n",
       "    </tr>\n",
       "    <tr>\n",
       "      <th>1994-02-28</th>\n",
       "      <td>-0.027111</td>\n",
       "      <td>0.000006</td>\n",
       "      <td>0.017613</td>\n",
       "      <td>-0.058911</td>\n",
       "      <td>0.009567</td>\n",
       "      <td>-0.013805</td>\n",
       "      <td>-0.003950</td>\n",
       "      <td>-0.000912</td>\n",
       "      <td>-0.022446</td>\n",
       "      <td>-0.043340</td>\n",
       "    </tr>\n",
       "    <tr>\n",
       "      <th>1994-03-31</th>\n",
       "      <td>-0.041814</td>\n",
       "      <td>-0.005214</td>\n",
       "      <td>0.069127</td>\n",
       "      <td>-0.045554</td>\n",
       "      <td>0.023223</td>\n",
       "      <td>-0.048927</td>\n",
       "      <td>-0.015751</td>\n",
       "      <td>-0.012458</td>\n",
       "      <td>-0.019630</td>\n",
       "      <td>-0.038477</td>\n",
       "    </tr>\n",
       "    <tr>\n",
       "      <th>1994-04-29</th>\n",
       "      <td>-0.018420</td>\n",
       "      <td>-0.000303</td>\n",
       "      <td>0.010010</td>\n",
       "      <td>-0.018733</td>\n",
       "      <td>0.005737</td>\n",
       "      <td>-0.086373</td>\n",
       "      <td>-0.009373</td>\n",
       "      <td>-0.028032</td>\n",
       "      <td>-0.004865</td>\n",
       "      <td>-0.020242</td>\n",
       "    </tr>\n",
       "    <tr>\n",
       "      <th>1994-05-31</th>\n",
       "      <td>0.002350</td>\n",
       "      <td>-0.004429</td>\n",
       "      <td>0.019157</td>\n",
       "      <td>0.034639</td>\n",
       "      <td>0.004297</td>\n",
       "      <td>-0.010653</td>\n",
       "      <td>-0.004804</td>\n",
       "      <td>-0.013529</td>\n",
       "      <td>0.004580</td>\n",
       "      <td>0.018978</td>\n",
       "    </tr>\n",
       "    <tr>\n",
       "      <th>...</th>\n",
       "      <td>...</td>\n",
       "      <td>...</td>\n",
       "      <td>...</td>\n",
       "      <td>...</td>\n",
       "      <td>...</td>\n",
       "      <td>...</td>\n",
       "      <td>...</td>\n",
       "      <td>...</td>\n",
       "      <td>...</td>\n",
       "      <td>...</td>\n",
       "    </tr>\n",
       "    <tr>\n",
       "      <th>2012-02-29</th>\n",
       "      <td>0.026418</td>\n",
       "      <td>0.013335</td>\n",
       "      <td>-0.046567</td>\n",
       "      <td>0.007852</td>\n",
       "      <td>0.012039</td>\n",
       "      <td>0.029177</td>\n",
       "      <td>0.015809</td>\n",
       "      <td>0.018784</td>\n",
       "      <td>0.010017</td>\n",
       "      <td>0.016091</td>\n",
       "    </tr>\n",
       "    <tr>\n",
       "      <th>2012-03-30</th>\n",
       "      <td>0.004998</td>\n",
       "      <td>-0.001553</td>\n",
       "      <td>-0.013541</td>\n",
       "      <td>-0.004271</td>\n",
       "      <td>-0.029648</td>\n",
       "      <td>-0.007012</td>\n",
       "      <td>0.007863</td>\n",
       "      <td>0.005535</td>\n",
       "      <td>0.007377</td>\n",
       "      <td>0.000478</td>\n",
       "    </tr>\n",
       "    <tr>\n",
       "      <th>2012-04-30</th>\n",
       "      <td>-0.004680</td>\n",
       "      <td>-0.004139</td>\n",
       "      <td>-0.025323</td>\n",
       "      <td>-0.002522</td>\n",
       "      <td>0.004299</td>\n",
       "      <td>0.001492</td>\n",
       "      <td>-0.002299</td>\n",
       "      <td>-0.002381</td>\n",
       "      <td>0.006870</td>\n",
       "      <td>-0.000423</td>\n",
       "    </tr>\n",
       "    <tr>\n",
       "      <th>2012-05-31</th>\n",
       "      <td>-0.045374</td>\n",
       "      <td>-0.031906</td>\n",
       "      <td>0.090237</td>\n",
       "      <td>0.001836</td>\n",
       "      <td>0.023729</td>\n",
       "      <td>-0.037989</td>\n",
       "      <td>-0.013356</td>\n",
       "      <td>-0.008487</td>\n",
       "      <td>0.002277</td>\n",
       "      <td>-0.013419</td>\n",
       "    </tr>\n",
       "    <tr>\n",
       "      <th>2012-06-29</th>\n",
       "      <td>0.003438</td>\n",
       "      <td>0.009249</td>\n",
       "      <td>-0.027231</td>\n",
       "      <td>-0.013726</td>\n",
       "      <td>-0.035612</td>\n",
       "      <td>-0.001355</td>\n",
       "      <td>-0.001814</td>\n",
       "      <td>0.003276</td>\n",
       "      <td>0.007563</td>\n",
       "      <td>-0.004017</td>\n",
       "    </tr>\n",
       "  </tbody>\n",
       "</table>\n",
       "<p>222 rows × 10 columns</p>\n",
       "</div>"
      ],
      "text/plain": [
       "            Ln/Sh Eq Hedge Fund USD  Eq Mkt Ntr Hedge Fund USD  \\\n",
       "date                                                             \n",
       "1994-01-31                 0.009233                  -0.007967   \n",
       "1994-02-28                -0.027111                   0.000006   \n",
       "1994-03-31                -0.041814                  -0.005214   \n",
       "1994-04-29                -0.018420                  -0.000303   \n",
       "1994-05-31                 0.002350                  -0.004429   \n",
       "...                             ...                        ...   \n",
       "2012-02-29                 0.026418                   0.013335   \n",
       "2012-03-30                 0.004998                  -0.001553   \n",
       "2012-04-30                -0.004680                  -0.004139   \n",
       "2012-05-31                -0.045374                  -0.031906   \n",
       "2012-06-29                 0.003438                   0.009249   \n",
       "\n",
       "            Ded Sh Bs Hedge Fund USD  Global Mac Hedge Fund USD  \\\n",
       "date                                                              \n",
       "1994-01-31                 -0.018767                  -0.001067   \n",
       "1994-02-28                  0.017613                  -0.058911   \n",
       "1994-03-31                  0.069127                  -0.045554   \n",
       "1994-04-29                  0.010010                  -0.018733   \n",
       "1994-05-31                  0.019157                   0.034639   \n",
       "...                              ...                        ...   \n",
       "2012-02-29                 -0.046567                   0.007852   \n",
       "2012-03-30                 -0.013541                  -0.004271   \n",
       "2012-04-30                 -0.025323                  -0.002522   \n",
       "2012-05-31                  0.090237                   0.001836   \n",
       "2012-06-29                 -0.027231                  -0.013726   \n",
       "\n",
       "            Mngd Fut Hedge Fund USD  Emg Mkts Hedge Fund USD  \\\n",
       "date                                                           \n",
       "1994-01-31                -0.000567                 0.102633   \n",
       "1994-02-28                 0.009567                -0.013805   \n",
       "1994-03-31                 0.023223                -0.048927   \n",
       "1994-04-29                 0.005737                -0.086373   \n",
       "1994-05-31                 0.004297                -0.010653   \n",
       "...                             ...                      ...   \n",
       "2012-02-29                 0.012039                 0.029177   \n",
       "2012-03-30                -0.029648                -0.007012   \n",
       "2012-04-30                 0.004299                 0.001492   \n",
       "2012-05-31                 0.023729                -0.037989   \n",
       "2012-06-29                -0.035612                -0.001355   \n",
       "\n",
       "            Evnt Drvn Hedge Fund USD  Cnvrt Arb Hedge Fund USD  \\\n",
       "date                                                             \n",
       "1994-01-31                  0.034033                  0.000833   \n",
       "1994-02-28                 -0.003950                 -0.000912   \n",
       "1994-03-31                 -0.015751                 -0.012458   \n",
       "1994-04-29                 -0.009373                 -0.028032   \n",
       "1994-05-31                 -0.004804                 -0.013529   \n",
       "...                              ...                       ...   \n",
       "2012-02-29                  0.015809                  0.018784   \n",
       "2012-03-30                  0.007863                  0.005535   \n",
       "2012-04-30                 -0.002299                 -0.002381   \n",
       "2012-05-31                 -0.013356                 -0.008487   \n",
       "2012-06-29                 -0.001814                  0.003276   \n",
       "\n",
       "            Fx Inc Arb Hedge Fund USD  DJCS Hedge Fund USD  \n",
       "date                                                        \n",
       "1994-01-31                   0.010233             0.008633  \n",
       "1994-02-28                  -0.022446            -0.043340  \n",
       "1994-03-31                  -0.019630            -0.038477  \n",
       "1994-04-29                  -0.004865            -0.020242  \n",
       "1994-05-31                   0.004580             0.018978  \n",
       "...                               ...                  ...  \n",
       "2012-02-29                   0.010017             0.016091  \n",
       "2012-03-30                   0.007377             0.000478  \n",
       "2012-04-30                   0.006870            -0.000423  \n",
       "2012-05-31                   0.002277            -0.013419  \n",
       "2012-06-29                   0.007563            -0.004017  \n",
       "\n",
       "[222 rows x 10 columns]"
      ]
     },
     "execution_count": 34,
     "metadata": {},
     "output_type": "execute_result"
    }
   ],
   "source": [
    "xrets = rets.sub(factors['RF'],axis=0)\n",
    "xrets"
   ]
  },
  {
   "cell_type": "code",
   "execution_count": 88,
   "metadata": {},
   "outputs": [
    {
     "data": {
      "text/plain": [
       "Ln/Sh Eq Hedge Fund USD       9.90%\n",
       "Eq Mkt Ntr Hedge Fund USD    10.22%\n",
       "Ded Sh Bs Hedge Fund USD     16.97%\n",
       "Global Mac Hedge Fund USD     9.64%\n",
       "Mngd Fut Hedge Fund USD      11.69%\n",
       "Emg Mkts Hedge Fund USD      14.89%\n",
       "Evnt Drvn Hedge Fund USD      6.29%\n",
       "Cnvrt Arb Hedge Fund USD      6.90%\n",
       "Fx Inc Arb Hedge Fund USD     5.73%\n",
       "DJCS Hedge Fund USD           7.50%\n",
       "dtype: object"
      ]
     },
     "execution_count": 88,
     "metadata": {},
     "output_type": "execute_result"
    }
   ],
   "source": [
    "vol = xrets.std()*np.sqrt(12)\n",
    "vol.map(\"{:.2%}\".format)"
   ]
  },
  {
   "cell_type": "code",
   "execution_count": 91,
   "metadata": {},
   "outputs": [
    {
     "data": {
      "text/plain": [
       "Ln/Sh Eq Hedge Fund USD      0.606\n",
       "Eq Mkt Ntr Hedge Fund USD    0.220\n",
       "Ded Sh Bs Hedge Fund USD    -0.336\n",
       "Global Mac Hedge Fund USD    0.878\n",
       "Mngd Fut Hedge Fund USD      0.264\n",
       "Emg Mkts Hedge Fund USD      0.332\n",
       "Evnt Drvn Hedge Fund USD     0.920\n",
       "Cnvrt Arb Hedge Fund USD     0.625\n",
       "Fx Inc Arb Hedge Fund USD    0.383\n",
       "DJCS Hedge Fund USD          0.716\n",
       "dtype: float64"
      ]
     },
     "execution_count": 91,
     "metadata": {},
     "output_type": "execute_result"
    }
   ],
   "source": [
    "SR = (avg_rets - factors['RF'].mean()*12)/vol # same with xrets.mean() * 12 / vol\n",
    "round(SR,3)"
   ]
  },
  {
   "cell_type": "code",
   "execution_count": 85,
   "metadata": {},
   "outputs": [],
   "source": [
    "import statsmodels.api as sm"
   ]
  },
  {
   "cell_type": "code",
   "execution_count": 100,
   "metadata": {},
   "outputs": [],
   "source": [
    "X = sm.add_constant(factors[\"Mkt-RF\"])\n",
    "y = xrets"
   ]
  },
  {
   "cell_type": "code",
   "execution_count": 111,
   "metadata": {},
   "outputs": [
    {
     "data": {
      "text/plain": [
       "const     0.000899\n",
       "Mkt-RF    0.191415\n",
       "dtype: float64"
      ]
     },
     "execution_count": 111,
     "metadata": {},
     "output_type": "execute_result"
    }
   ],
   "source": [
    "re = sm.OLS(y.iloc[:,1],X).fit()\n",
    "re.params[0]"
   ]
  },
  {
   "cell_type": "code",
   "execution_count": 213,
   "metadata": {},
   "outputs": [],
   "source": [
    "alpha=[]\n",
    "beta =[]\n",
    "ssr = []\n",
    "i = 0\n",
    "while i<y.shape[1]:\n",
    "    reg = sm.OLS(y.iloc[:,i], X).fit()\n",
    "    alpha.append(reg.params[0] * 12)\n",
    "    beta.append(reg.params[1])\n",
    "    ssr.append(reg.ssr)\n",
    "    i+=1\n",
    "alpha = pd.Series(data = alpha, index = index)\n"
   ]
  },
  {
   "cell_type": "code",
   "execution_count": 165,
   "metadata": {},
   "outputs": [
    {
     "data": {
      "text/plain": [
       "Ln/Sh Eq Hedge Fund USD       3.19%\n",
       "Eq Mkt Ntr Hedge Fund USD     1.08%\n",
       "Ded Sh Bs Hedge Fund USD     -0.47%\n",
       "Global Mac Hedge Fund USD     7.54%\n",
       "Mngd Fut Hedge Fund USD       3.52%\n",
       "Emg Mkts Hedge Fund USD       1.62%\n",
       "Evnt Drvn Hedge Fund USD      4.18%\n",
       "Cnvrt Arb Hedge Fund USD      3.25%\n",
       "Fx Inc Arb Hedge Fund USD     1.41%\n",
       "DJCS Hedge Fund USD           3.59%\n",
       "dtype: object"
      ]
     },
     "execution_count": 165,
     "metadata": {},
     "output_type": "execute_result"
    }
   ],
   "source": [
    "alpha={}\n",
    "beta ={}\n",
    "index = y.columns\n",
    "for i in index:\n",
    "    reg = sm.OLS(y[i],X).fit()\n",
    "    alpha.update({i:reg.params[0]*12})\n",
    "    beta.update({i:reg.params[1]})\n",
    "pd.Series(alpha).map(\"{:.2%}\".format)"
   ]
  },
  {
   "cell_type": "code",
   "execution_count": 167,
   "metadata": {},
   "outputs": [
    {
     "data": {
      "text/plain": [
       "Ln/Sh Eq Hedge Fund USD      0.46\n",
       "Eq Mkt Ntr Hedge Fund USD    0.19\n",
       "Ded Sh Bs Hedge Fund USD    -0.86\n",
       "Global Mac Hedge Fund USD    0.15\n",
       "Mngd Fut Hedge Fund USD     -0.07\n",
       "Emg Mkts Hedge Fund USD      0.54\n",
       "Evnt Drvn Hedge Fund USD     0.26\n",
       "Cnvrt Arb Hedge Fund USD     0.17\n",
       "Fx Inc Arb Hedge Fund USD    0.13\n",
       "DJCS Hedge Fund USD          0.29\n",
       "dtype: float64"
      ]
     },
     "execution_count": 167,
     "metadata": {},
     "output_type": "execute_result"
    }
   ],
   "source": [
    "round(pd.Series(beta),2)"
   ]
  },
  {
   "cell_type": "code",
   "execution_count": 211,
   "metadata": {},
   "outputs": [
    {
     "data": {
      "text/plain": [
       "Ln/Sh Eq Hedge Fund USD       3.19%\n",
       "Eq Mkt Ntr Hedge Fund USD     1.08%\n",
       "Ded Sh Bs Hedge Fund USD     -0.47%\n",
       "Global Mac Hedge Fund USD     7.54%\n",
       "Mngd Fut Hedge Fund USD       3.52%\n",
       "Emg Mkts Hedge Fund USD       1.62%\n",
       "Evnt Drvn Hedge Fund USD      4.18%\n",
       "Cnvrt Arb Hedge Fund USD      3.25%\n",
       "Fx Inc Arb Hedge Fund USD     1.41%\n",
       "DJCS Hedge Fund USD           3.59%\n",
       "dtype: object"
      ]
     },
     "execution_count": 211,
     "metadata": {},
     "output_type": "execute_result"
    }
   ],
   "source": [
    "alpha = pd.Series(data = alpha,index= y.columns).map(\"{:.2%}\".format)\n",
    "alpha"
   ]
  },
  {
   "cell_type": "code",
   "execution_count": 193,
   "metadata": {},
   "outputs": [
    {
     "data": {
      "text/plain": [
       "Ln/Sh Eq Hedge Fund USD      0.46\n",
       "Eq Mkt Ntr Hedge Fund USD    0.19\n",
       "Ded Sh Bs Hedge Fund USD    -0.86\n",
       "Global Mac Hedge Fund USD    0.15\n",
       "Mngd Fut Hedge Fund USD     -0.07\n",
       "Emg Mkts Hedge Fund USD      0.54\n",
       "Evnt Drvn Hedge Fund USD     0.26\n",
       "Cnvrt Arb Hedge Fund USD     0.17\n",
       "Fx Inc Arb Hedge Fund USD    0.13\n",
       "DJCS Hedge Fund USD          0.29\n",
       "dtype: float64"
      ]
     },
     "execution_count": 193,
     "metadata": {},
     "output_type": "execute_result"
    }
   ],
   "source": [
    "bata = round(pd.Series(data = beta,index= y.columns),2)\n",
    "bata"
   ]
  },
  {
   "cell_type": "code",
   "execution_count": 215,
   "metadata": {},
   "outputs": [
    {
     "data": {
      "text/plain": [
       "Ln/Sh Eq Hedge Fund USD      0.08\n",
       "Eq Mkt Ntr Hedge Fund USD    0.17\n",
       "Ded Sh Bs Hedge Fund USD     0.17\n",
       "Global Mac Hedge Fund USD    0.16\n",
       "Mngd Fut Hedge Fund USD      0.25\n",
       "Emg Mkts Hedge Fund USD      0.26\n",
       "Evnt Drvn Hedge Fund USD     0.04\n",
       "Cnvrt Arb Hedge Fund USD     0.07\n",
       "Fx Inc Arb Hedge Fund USD    0.05\n",
       "DJCS Hedge Fund USD          0.06\n",
       "dtype: float64"
      ]
     },
     "execution_count": 215,
     "metadata": {},
     "output_type": "execute_result"
    }
   ],
   "source": [
    "ssr = round(pd.Series(data = ssr,index= y.columns),2)\n",
    "ssr"
   ]
  },
  {
   "cell_type": "code",
   "execution_count": 220,
   "metadata": {},
   "outputs": [
    {
     "data": {
      "text/plain": [
       "Ln/Sh Eq Hedge Fund USD      0.49\n",
       "Eq Mkt Ntr Hedge Fund USD    0.11\n",
       "Ded Sh Bs Hedge Fund USD    -0.05\n",
       "Global Mac Hedge Fund USD    0.81\n",
       "Mngd Fut Hedge Fund USD      0.30\n",
       "Emg Mkts Hedge Fund USD      0.14\n",
       "Evnt Drvn Hedge Fund USD     0.90\n",
       "Cnvrt Arb Hedge Fund USD     0.53\n",
       "Fx Inc Arb Hedge Fund USD    0.27\n",
       "DJCS Hedge Fund USD          0.63\n",
       "dtype: float64"
      ]
     },
     "execution_count": 220,
     "metadata": {},
     "output_type": "execute_result"
    }
   ],
   "source": [
    "ir = alpha / np.sqrt(ssr/y.shape[0]*12)\n",
    "round(ir,2)"
   ]
  },
  {
   "cell_type": "code",
   "execution_count": 240,
   "metadata": {},
   "outputs": [],
   "source": [
    "hwm = (rets+1).cumprod().expanding().max()\n",
    "dd = (hwm - (rets+1).cumprod())/hwm\n",
    "max_dd = dd.max()"
   ]
  },
  {
   "cell_type": "code",
   "execution_count": 244,
   "metadata": {},
   "outputs": [
    {
     "data": {
      "text/plain": [
       "Ln/Sh Eq Hedge Fund USD      22.14%\n",
       "Eq Mkt Ntr Hedge Fund USD    45.13%\n",
       "Ded Sh Bs Hedge Fund USD     64.24%\n",
       "Global Mac Hedge Fund USD    27.00%\n",
       "Mngd Fut Hedge Fund USD      17.88%\n",
       "Emg Mkts Hedge Fund USD      45.33%\n",
       "Evnt Drvn Hedge Fund USD     19.30%\n",
       "Cnvrt Arb Hedge Fund USD     33.00%\n",
       "Fx Inc Arb Hedge Fund USD    29.10%\n",
       "DJCS Hedge Fund USD          19.82%\n",
       "dtype: object"
      ]
     },
     "execution_count": 244,
     "metadata": {},
     "output_type": "execute_result"
    }
   ],
   "source": [
    "max_dd.map(\"{:.2%}\".format)"
   ]
  },
  {
   "cell_type": "code",
   "execution_count": 250,
   "metadata": {},
   "outputs": [],
   "source": [
    "skewness = xrets.skew()\n",
    "kurtosis = xrets.kurt()"
   ]
  },
  {
   "cell_type": "code",
   "execution_count": 277,
   "metadata": {},
   "outputs": [
    {
     "data": {
      "text/plain": [
       "date\n",
       "1994-01-31    0.998933\n",
       "1994-02-28    0.998933\n",
       "1994-03-31    0.998933\n",
       "1994-04-29    0.998933\n",
       "1994-05-31    0.998933\n",
       "                ...   \n",
       "2012-02-29    4.460603\n",
       "2012-03-30    4.460603\n",
       "2012-04-30    4.460603\n",
       "2012-05-31    4.460603\n",
       "2012-06-29    4.460603\n",
       "Name: Global Mac Hedge Fund USD, Length: 222, dtype: float64"
      ]
     },
     "execution_count": 277,
     "metadata": {},
     "output_type": "execute_result"
    }
   ],
   "source": [
    "(xrets['Global Mac Hedge Fund USD'] + 1).cumprod().expanding().max()"
   ]
  },
  {
   "cell_type": "code",
   "execution_count": 353,
   "metadata": {},
   "outputs": [
    {
     "data": {
      "image/png": "[encoded data removed]",
      "text/plain": [
       "<Figure size 680x340 with 2 Axes>"
      ]
     },
     "metadata": {
      "needs_background": "light"
     },
     "output_type": "display_data"
    }
   ],
   "source": [
    "title = 'Global Mac Hedge Fund USD'\n",
    "fig, ax1 = plt.subplots(figsize=(8,4), dpi=85)\n",
    "ax1.plot((xrets['Global Mac Hedge Fund USD'] + 1).cumprod(),color='green',label='cumulative rets')\n",
    "ax1.plot((xrets['Global Mac Hedge Fund USD'] + 1).cumprod().expanding().max(),ls='--',color='grey',label='HwM')\n",
    "ax2 = ax1.twinx()\n",
    "ax2.plot(dd['Global Mac Hedge Fund USD'],color='black',label='DD')\n",
    "ax1.set_ylabel('Cumulative rets')\n",
    "ax2.set_ylabel('dd')\n",
    "ax1.legend(loc='upper left')\n",
    "ax2.legend(loc='upper center')\n",
    "plt.title(title);"
   ]
  },
  {
   "cell_type": "code",
   "execution_count": 298,
   "metadata": {},
   "outputs": [
    {
     "data": {
      "text/html": [
       "<div>\n",
       "<style scoped>\n",
       "    .dataframe tbody tr th:only-of-type {\n",
       "        vertical-align: middle;\n",
       "    }\n",
       "\n",
       "    .dataframe tbody tr th {\n",
       "        vertical-align: top;\n",
       "    }\n",
       "\n",
       "    .dataframe thead th {\n",
       "        text-align: right;\n",
       "    }\n",
       "</style>\n",
       "<table border=\"1\" class=\"dataframe\">\n",
       "  <thead>\n",
       "    <tr style=\"text-align: right;\">\n",
       "      <th></th>\n",
       "      <th>RF</th>\n",
       "      <th>Mkt-RF</th>\n",
       "      <th>SMB</th>\n",
       "      <th>HML</th>\n",
       "      <th>UMD</th>\n",
       "    </tr>\n",
       "    <tr>\n",
       "      <th>date</th>\n",
       "      <th></th>\n",
       "      <th></th>\n",
       "      <th></th>\n",
       "      <th></th>\n",
       "      <th></th>\n",
       "    </tr>\n",
       "  </thead>\n",
       "  <tbody>\n",
       "    <tr>\n",
       "      <th>1994-01-31</th>\n",
       "      <td>0.0025</td>\n",
       "      <td>0.0290</td>\n",
       "      <td>0.0011</td>\n",
       "      <td>0.0215</td>\n",
       "      <td>0.0009</td>\n",
       "    </tr>\n",
       "    <tr>\n",
       "      <th>1994-02-28</th>\n",
       "      <td>0.0021</td>\n",
       "      <td>-0.0263</td>\n",
       "      <td>0.0272</td>\n",
       "      <td>-0.0137</td>\n",
       "      <td>-0.0027</td>\n",
       "    </tr>\n",
       "    <tr>\n",
       "      <th>1994-03-31</th>\n",
       "      <td>0.0027</td>\n",
       "      <td>-0.0485</td>\n",
       "      <td>-0.0090</td>\n",
       "      <td>0.0129</td>\n",
       "      <td>-0.0131</td>\n",
       "    </tr>\n",
       "    <tr>\n",
       "      <th>1994-04-29</th>\n",
       "      <td>0.0027</td>\n",
       "      <td>0.0068</td>\n",
       "      <td>-0.0088</td>\n",
       "      <td>0.0166</td>\n",
       "      <td>0.0039</td>\n",
       "    </tr>\n",
       "    <tr>\n",
       "      <th>1994-05-31</th>\n",
       "      <td>0.0032</td>\n",
       "      <td>0.0062</td>\n",
       "      <td>-0.0205</td>\n",
       "      <td>0.0012</td>\n",
       "      <td>-0.0222</td>\n",
       "    </tr>\n",
       "    <tr>\n",
       "      <th>...</th>\n",
       "      <td>...</td>\n",
       "      <td>...</td>\n",
       "      <td>...</td>\n",
       "      <td>...</td>\n",
       "      <td>...</td>\n",
       "    </tr>\n",
       "    <tr>\n",
       "      <th>2012-02-29</th>\n",
       "      <td>0.0000</td>\n",
       "      <td>0.0420</td>\n",
       "      <td>-0.0160</td>\n",
       "      <td>-0.0003</td>\n",
       "      <td>-0.0027</td>\n",
       "    </tr>\n",
       "    <tr>\n",
       "      <th>2012-03-30</th>\n",
       "      <td>0.0000</td>\n",
       "      <td>0.0252</td>\n",
       "      <td>-0.0019</td>\n",
       "      <td>0.0002</td>\n",
       "      <td>0.0149</td>\n",
       "    </tr>\n",
       "    <tr>\n",
       "      <th>2012-04-30</th>\n",
       "      <td>0.0000</td>\n",
       "      <td>-0.0069</td>\n",
       "      <td>-0.0058</td>\n",
       "      <td>-0.0019</td>\n",
       "      <td>0.0394</td>\n",
       "    </tr>\n",
       "    <tr>\n",
       "      <th>2012-05-31</th>\n",
       "      <td>0.0001</td>\n",
       "      <td>-0.0659</td>\n",
       "      <td>-0.0002</td>\n",
       "      <td>0.0019</td>\n",
       "      <td>0.0665</td>\n",
       "    </tr>\n",
       "    <tr>\n",
       "      <th>2012-06-29</th>\n",
       "      <td>0.0000</td>\n",
       "      <td>0.0385</td>\n",
       "      <td>0.0085</td>\n",
       "      <td>0.0037</td>\n",
       "      <td>-0.0096</td>\n",
       "    </tr>\n",
       "  </tbody>\n",
       "</table>\n",
       "<p>222 rows × 5 columns</p>\n",
       "</div>"
      ],
      "text/plain": [
       "                RF  Mkt-RF     SMB     HML     UMD\n",
       "date                                              \n",
       "1994-01-31  0.0025  0.0290  0.0011  0.0215  0.0009\n",
       "1994-02-28  0.0021 -0.0263  0.0272 -0.0137 -0.0027\n",
       "1994-03-31  0.0027 -0.0485 -0.0090  0.0129 -0.0131\n",
       "1994-04-29  0.0027  0.0068 -0.0088  0.0166  0.0039\n",
       "1994-05-31  0.0032  0.0062 -0.0205  0.0012 -0.0222\n",
       "...            ...     ...     ...     ...     ...\n",
       "2012-02-29  0.0000  0.0420 -0.0160 -0.0003 -0.0027\n",
       "2012-03-30  0.0000  0.0252 -0.0019  0.0002  0.0149\n",
       "2012-04-30  0.0000 -0.0069 -0.0058 -0.0019  0.0394\n",
       "2012-05-31  0.0001 -0.0659 -0.0002  0.0019  0.0665\n",
       "2012-06-29  0.0000  0.0385  0.0085  0.0037 -0.0096\n",
       "\n",
       "[222 rows x 5 columns]"
      ]
     },
     "execution_count": 298,
     "metadata": {},
     "output_type": "execute_result"
    }
   ],
   "source": [
    "factors"
   ]
  },
  {
   "cell_type": "code",
   "execution_count": 324,
   "metadata": {},
   "outputs": [],
   "source": [
    "y=xrets['Ln/Sh Eq Hedge Fund USD']\n",
    "X1 = factors['Mkt-RF']\n",
    "X2 = factors.drop('RF',axis=1)"
   ]
  },
  {
   "cell_type": "code",
   "execution_count": 337,
   "metadata": {},
   "outputs": [],
   "source": [
    "reg1 = sm.OLS(y,sm.add_constant(X1)).fit()\n",
    "uv_alpha = round(reg1.params.loc['const']*12*100,2)"
   ]
  },
  {
   "cell_type": "code",
   "execution_count": 336,
   "metadata": {},
   "outputs": [],
   "source": [
    "reg2=sm.OLS(y,sm.add_constant(X2)).fit()\n",
    "mv_alpha = round(reg2.params.loc['const']*12*100,2)"
   ]
  },
  {
   "cell_type": "code",
   "execution_count": 330,
   "metadata": {},
   "outputs": [],
   "source": [
    "from stargazer.stargazer import Stargazer"
   ]
  },
  {
   "cell_type": "code",
   "execution_count": 340,
   "metadata": {},
   "outputs": [
    {
     "data": {
      "text/html": [
       "<table style=\"text-align:center\"><tr><td colspan=\"3\" style=\"border-bottom: 1px solid black\"></td></tr><tr><td style=\"text-align:left\"></td><td colspan=\"2\"><em>Dependent variable:Ln/Sh Eq Hedge Fund USD</em></td></tr><tr><td style=\"text-align:left\"></td><tr><td style=\"text-align:left\"></td><td>(1)</td><td>(2)</td></tr><tr><td colspan=\"3\" style=\"border-bottom: 1px solid black\"></td></tr><tr><td style=\"text-align:left\">const</td><td>0.003<sup>**</sup></td><td>0.002<sup>*</sup></td></tr><tr><td style=\"text-align:left\"></td><td>(0.001)</td><td>(0.001)</td></tr><tr><td style=\"text-align:left\">Mkt-RF</td><td>0.460<sup>***</sup></td><td>0.468<sup>***</sup></td></tr><tr><td style=\"text-align:left\"></td><td>(0.027)</td><td>(0.022)</td></tr><tr><td style=\"text-align:left\">SMB</td><td></td><td>0.177<sup>***</sup></td></tr><tr><td style=\"text-align:left\"></td><td></td><td>(0.029)</td></tr><tr><td style=\"text-align:left\">HML</td><td></td><td>-0.083<sup>***</sup></td></tr><tr><td style=\"text-align:left\"></td><td></td><td>(0.031)</td></tr><tr><td style=\"text-align:left\">UMD</td><td></td><td>0.166<sup>***</sup></td></tr><tr><td style=\"text-align:left\"></td><td></td><td>(0.018)</td></tr><tr><td style=\"text-align: left\">Annualized Alpha (in %)</td><td>3.19</td><td>1.93</td></tr><td colspan=\"3\" style=\"border-bottom: 1px solid black\"></td></tr><tr><td style=\"text-align: left\">Observations</td><td>222</td><td>222</td></tr><tr><td style=\"text-align: left\">R<sup>2</sup></td><td>0.571</td><td>0.768</td></tr><tr><td style=\"text-align: left\">Adjusted R<sup>2</sup></td><td>0.569</td><td>0.764</td></tr><tr><td style=\"text-align: left\">Residual Std. Error</td><td>0.019 (df=220)</td><td>0.014 (df=217)</td></tr><tr><td style=\"text-align: left\">F Statistic</td><td>293.318<sup>***</sup> (df=1; 220)</td><td>179.782<sup>***</sup> (df=4; 217)</td></tr><tr><td colspan=\"3\" style=\"border-bottom: 1px solid black\"></td></tr><tr><td style=\"text-align: left\">Note:</td>\n",
       " <td colspan=\"2\" style=\"text-align: right\">\n",
       "  <sup>*</sup>p&lt;0.1;\n",
       "  <sup>**</sup>p&lt;0.05;\n",
       "  <sup>***</sup>p&lt;0.01\n",
       " </td></tr></table>"
      ],
      "text/plain": [
       "<stargazer.stargazer.Stargazer at 0x7fe741a7bd30>"
      ]
     },
     "execution_count": 340,
     "metadata": {},
     "output_type": "execute_result"
    }
   ],
   "source": [
    "table = Stargazer([reg1, reg2])\n",
    "table.add_line(\"Annualized Alpha (in %)\", [uv_alpha, mv_alpha])\n",
    "table.covariate_order([\"const\", \"Mkt-RF\", \"SMB\", \"HML\", \"UMD\"])\n",
    "table"
   ]
  },
  {
   "cell_type": "code",
   "execution_count": 343,
   "metadata": {},
   "outputs": [],
   "source": [
    "y = xrets['Cnvrt Arb Hedge Fund USD']\n",
    "x = X1"
   ]
  },
  {
   "cell_type": "code",
   "execution_count": 368,
   "metadata": {},
   "outputs": [
    {
     "name": "stdout",
     "output_type": "stream",
     "text": [
      "Beta: 0.17\n",
      "Alpha: 3.25%\n"
     ]
    }
   ],
   "source": [
    "reg3 = sm.OLS(y,sm.add_constant(x)).fit()\n",
    "beta = reg3.params[1]\n",
    "alpha = reg3.params[0]*12*100\n",
    "print(\"Beta:\",round(beta,2))\n",
    "print(\"Alpha: {}%\".format(round(alpha,2)))"
   ]
  },
  {
   "cell_type": "code",
   "execution_count": 385,
   "metadata": {},
   "outputs": [
    {
     "name": "stdout",
     "output_type": "stream",
     "text": [
      "Alpha: 2.5%\n",
      "Beta:  0.3\n"
     ]
    }
   ],
   "source": [
    "y1 = y.rolling(3).sum()\n",
    "x1 = x.rolling(3).sum()\n",
    "reg4 = sm.OLS(y1,sm.add_constant(x1),missing='drop').fit()\n",
    "print(\"Alpha: {}%\".format(round(reg4.params[0]*4*100,2)))\n",
    "print(\"Beta: \",round(reg4.params[1],2))"
   ]
  },
  {
   "cell_type": "code",
   "execution_count": 407,
   "metadata": {},
   "outputs": [
    {
     "data": {
      "text/html": [
       "<div>\n",
       "<style scoped>\n",
       "    .dataframe tbody tr th:only-of-type {\n",
       "        vertical-align: middle;\n",
       "    }\n",
       "\n",
       "    .dataframe tbody tr th {\n",
       "        vertical-align: top;\n",
       "    }\n",
       "\n",
       "    .dataframe thead th {\n",
       "        text-align: right;\n",
       "    }\n",
       "</style>\n",
       "<table border=\"1\" class=\"dataframe\">\n",
       "  <thead>\n",
       "    <tr style=\"text-align: right;\">\n",
       "      <th></th>\n",
       "      <th>const</th>\n",
       "      <th>x1</th>\n",
       "      <th>x2</th>\n",
       "      <th>x3</th>\n",
       "    </tr>\n",
       "    <tr>\n",
       "      <th>date</th>\n",
       "      <th></th>\n",
       "      <th></th>\n",
       "      <th></th>\n",
       "      <th></th>\n",
       "    </tr>\n",
       "  </thead>\n",
       "  <tbody>\n",
       "    <tr>\n",
       "      <th>1994-01-31</th>\n",
       "      <td>1.0</td>\n",
       "      <td>0.0290</td>\n",
       "      <td>NaN</td>\n",
       "      <td>NaN</td>\n",
       "    </tr>\n",
       "    <tr>\n",
       "      <th>1994-02-28</th>\n",
       "      <td>1.0</td>\n",
       "      <td>-0.0263</td>\n",
       "      <td>0.0290</td>\n",
       "      <td>NaN</td>\n",
       "    </tr>\n",
       "    <tr>\n",
       "      <th>1994-03-31</th>\n",
       "      <td>1.0</td>\n",
       "      <td>-0.0485</td>\n",
       "      <td>-0.0263</td>\n",
       "      <td>0.0290</td>\n",
       "    </tr>\n",
       "    <tr>\n",
       "      <th>1994-04-29</th>\n",
       "      <td>1.0</td>\n",
       "      <td>0.0068</td>\n",
       "      <td>-0.0485</td>\n",
       "      <td>-0.0263</td>\n",
       "    </tr>\n",
       "    <tr>\n",
       "      <th>1994-05-31</th>\n",
       "      <td>1.0</td>\n",
       "      <td>0.0062</td>\n",
       "      <td>0.0068</td>\n",
       "      <td>-0.0485</td>\n",
       "    </tr>\n",
       "    <tr>\n",
       "      <th>...</th>\n",
       "      <td>...</td>\n",
       "      <td>...</td>\n",
       "      <td>...</td>\n",
       "      <td>...</td>\n",
       "    </tr>\n",
       "    <tr>\n",
       "      <th>2012-02-29</th>\n",
       "      <td>1.0</td>\n",
       "      <td>0.0420</td>\n",
       "      <td>0.0539</td>\n",
       "      <td>0.0049</td>\n",
       "    </tr>\n",
       "    <tr>\n",
       "      <th>2012-03-30</th>\n",
       "      <td>1.0</td>\n",
       "      <td>0.0252</td>\n",
       "      <td>0.0420</td>\n",
       "      <td>0.0539</td>\n",
       "    </tr>\n",
       "    <tr>\n",
       "      <th>2012-04-30</th>\n",
       "      <td>1.0</td>\n",
       "      <td>-0.0069</td>\n",
       "      <td>0.0252</td>\n",
       "      <td>0.0420</td>\n",
       "    </tr>\n",
       "    <tr>\n",
       "      <th>2012-05-31</th>\n",
       "      <td>1.0</td>\n",
       "      <td>-0.0659</td>\n",
       "      <td>-0.0069</td>\n",
       "      <td>0.0252</td>\n",
       "    </tr>\n",
       "    <tr>\n",
       "      <th>2012-06-29</th>\n",
       "      <td>1.0</td>\n",
       "      <td>0.0385</td>\n",
       "      <td>-0.0659</td>\n",
       "      <td>-0.0069</td>\n",
       "    </tr>\n",
       "  </tbody>\n",
       "</table>\n",
       "<p>222 rows × 4 columns</p>\n",
       "</div>"
      ],
      "text/plain": [
       "            const      x1      x2      x3\n",
       "date                                     \n",
       "1994-01-31    1.0  0.0290     NaN     NaN\n",
       "1994-02-28    1.0 -0.0263  0.0290     NaN\n",
       "1994-03-31    1.0 -0.0485 -0.0263  0.0290\n",
       "1994-04-29    1.0  0.0068 -0.0485 -0.0263\n",
       "1994-05-31    1.0  0.0062  0.0068 -0.0485\n",
       "...           ...     ...     ...     ...\n",
       "2012-02-29    1.0  0.0420  0.0539  0.0049\n",
       "2012-03-30    1.0  0.0252  0.0420  0.0539\n",
       "2012-04-30    1.0 -0.0069  0.0252  0.0420\n",
       "2012-05-31    1.0 -0.0659 -0.0069  0.0252\n",
       "2012-06-29    1.0  0.0385 -0.0659 -0.0069\n",
       "\n",
       "[222 rows x 4 columns]"
      ]
     },
     "execution_count": 407,
     "metadata": {},
     "output_type": "execute_result"
    }
   ],
   "source": [
    "x =sm.add_constant(pd.DataFrame(data=[x1,x2,x3],index=['x1','x2','x3']).T)\n",
    "x"
   ]
  },
  {
   "cell_type": "code",
   "execution_count": 427,
   "metadata": {},
   "outputs": [
    {
     "name": "stdout",
     "output_type": "stream",
     "text": [
      "Alpha: 2.39%\n",
      "Beta:  0.32\n"
     ]
    }
   ],
   "source": [
    "y = xrets['Cnvrt Arb Hedge Fund USD']\n",
    "x1 = x\n",
    "x2 = x.shift(1)\n",
    "x3 = x.shift(2)\n",
    "reg5 = sm.OLS(y,x,missing='drop').fit()\n",
    "print(\"Alpha: {}%\".format(round(reg5.params[0]*12*100,2)))\n",
    "print(\"Beta: \",round(reg5.params.loc[['x2','x1','x3']].sum(),2))"
   ]
  }
 ],
 "metadata": {
  "kernelspec": {
   "display_name": "Python 3",
   "language": "python",
   "name": "python3"
  },
  "language_info": {
   "codemirror_mode": {
    "name": "ipython",
    "version": 3
   },
   "file_extension": ".py",
   "mimetype": "text/x-python",
   "name": "python",
   "nbconvert_exporter": "python",
   "pygments_lexer": "ipython3",
   "version": "3.8.5"
  }
 },
 "nbformat": 4,
 "nbformat_minor": 4
}
