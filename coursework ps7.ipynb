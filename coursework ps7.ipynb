{
 "cells": [
  {
   "cell_type": "code",
   "execution_count": 1,
   "metadata": {},
   "outputs": [],
   "source": [
    "import pandas as pd\n",
    "import numpy as np\n",
    "import matplotlib.pyplot as plt\n",
    "import statsmodels.api as sm"
   ]
  },
  {
   "cell_type": "code",
   "execution_count": 2,
   "metadata": {},
   "outputs": [],
   "source": [
    "file = 'Hedge_Fund/data/PS_7_Buffetts_exercise (1).xlsx'\n",
    "factor = pd.read_excel(file,sheet_name='factors',parse_dates=['date'],index_col=0)\n",
    "data = pd.read_excel(file,sheet_name='buffet_data',parse_dates=['date'],index_col='date')"
   ]
  },
  {
   "cell_type": "code",
   "execution_count": 3,
   "metadata": {},
   "outputs": [
    {
     "data": {
      "text/html": [
       "<div>\n",
       "<style scoped>\n",
       "    .dataframe tbody tr th:only-of-type {\n",
       "        vertical-align: middle;\n",
       "    }\n",
       "\n",
       "    .dataframe tbody tr th {\n",
       "        vertical-align: top;\n",
       "    }\n",
       "\n",
       "    .dataframe thead th {\n",
       "        text-align: right;\n",
       "    }\n",
       "</style>\n",
       "<table border=\"1\" class=\"dataframe\">\n",
       "  <thead>\n",
       "    <tr style=\"text-align: right;\">\n",
       "      <th></th>\n",
       "      <th>RF</th>\n",
       "      <th>Mkt-RF</th>\n",
       "      <th>SMB</th>\n",
       "      <th>HML</th>\n",
       "      <th>QMJ</th>\n",
       "      <th>BAB</th>\n",
       "      <th>UMD</th>\n",
       "    </tr>\n",
       "    <tr>\n",
       "      <th>date</th>\n",
       "      <th></th>\n",
       "      <th></th>\n",
       "      <th></th>\n",
       "      <th></th>\n",
       "      <th></th>\n",
       "      <th></th>\n",
       "      <th></th>\n",
       "    </tr>\n",
       "  </thead>\n",
       "  <tbody>\n",
       "    <tr>\n",
       "      <th>1976-10-29</th>\n",
       "      <td>0.0041</td>\n",
       "      <td>-0.0242</td>\n",
       "      <td>0.0025</td>\n",
       "      <td>-0.0013</td>\n",
       "      <td>0.000291</td>\n",
       "      <td>0.009824</td>\n",
       "      <td>-0.0048</td>\n",
       "    </tr>\n",
       "    <tr>\n",
       "      <th>1976-11-30</th>\n",
       "      <td>0.0040</td>\n",
       "      <td>0.0036</td>\n",
       "      <td>0.0232</td>\n",
       "      <td>0.0151</td>\n",
       "      <td>-0.020044</td>\n",
       "      <td>0.003814</td>\n",
       "      <td>0.0290</td>\n",
       "    </tr>\n",
       "    <tr>\n",
       "      <th>1976-12-31</th>\n",
       "      <td>0.0040</td>\n",
       "      <td>0.0565</td>\n",
       "      <td>0.0301</td>\n",
       "      <td>0.0222</td>\n",
       "      <td>-0.006284</td>\n",
       "      <td>0.032671</td>\n",
       "      <td>0.0077</td>\n",
       "    </tr>\n",
       "    <tr>\n",
       "      <th>1977-01-31</th>\n",
       "      <td>0.0036</td>\n",
       "      <td>-0.0405</td>\n",
       "      <td>0.0478</td>\n",
       "      <td>0.0426</td>\n",
       "      <td>-0.020399</td>\n",
       "      <td>0.038325</td>\n",
       "      <td>0.0398</td>\n",
       "    </tr>\n",
       "    <tr>\n",
       "      <th>1977-02-28</th>\n",
       "      <td>0.0035</td>\n",
       "      <td>-0.0195</td>\n",
       "      <td>0.0109</td>\n",
       "      <td>0.0050</td>\n",
       "      <td>0.016226</td>\n",
       "      <td>0.028703</td>\n",
       "      <td>0.0038</td>\n",
       "    </tr>\n",
       "  </tbody>\n",
       "</table>\n",
       "</div>"
      ],
      "text/plain": [
       "                RF  Mkt-RF     SMB     HML       QMJ       BAB     UMD\n",
       "date                                                                  \n",
       "1976-10-29  0.0041 -0.0242  0.0025 -0.0013  0.000291  0.009824 -0.0048\n",
       "1976-11-30  0.0040  0.0036  0.0232  0.0151 -0.020044  0.003814  0.0290\n",
       "1976-12-31  0.0040  0.0565  0.0301  0.0222 -0.006284  0.032671  0.0077\n",
       "1977-01-31  0.0036 -0.0405  0.0478  0.0426 -0.020399  0.038325  0.0398\n",
       "1977-02-28  0.0035 -0.0195  0.0109  0.0050  0.016226  0.028703  0.0038"
      ]
     },
     "execution_count": 3,
     "metadata": {},
     "output_type": "execute_result"
    }
   ],
   "source": [
    "factor.head()"
   ]
  },
  {
   "cell_type": "code",
   "execution_count": 4,
   "metadata": {},
   "outputs": [
    {
     "data": {
      "text/html": [
       "<div>\n",
       "<style scoped>\n",
       "    .dataframe tbody tr th:only-of-type {\n",
       "        vertical-align: middle;\n",
       "    }\n",
       "\n",
       "    .dataframe tbody tr th {\n",
       "        vertical-align: top;\n",
       "    }\n",
       "\n",
       "    .dataframe thead th {\n",
       "        text-align: right;\n",
       "    }\n",
       "</style>\n",
       "<table border=\"1\" class=\"dataframe\">\n",
       "  <thead>\n",
       "    <tr style=\"text-align: right;\">\n",
       "      <th></th>\n",
       "      <th>Berkshire Hathaway, total return</th>\n",
       "      <th>Public stocks from 13F, total return</th>\n",
       "      <th>Heinz, total return</th>\n",
       "      <th>Kraft, total return</th>\n",
       "    </tr>\n",
       "    <tr>\n",
       "      <th>date</th>\n",
       "      <th></th>\n",
       "      <th></th>\n",
       "      <th></th>\n",
       "      <th></th>\n",
       "    </tr>\n",
       "  </thead>\n",
       "  <tbody>\n",
       "    <tr>\n",
       "      <th>1976-10-29</th>\n",
       "      <td>NaN</td>\n",
       "      <td>NaN</td>\n",
       "      <td>NaN</td>\n",
       "      <td>NaN</td>\n",
       "    </tr>\n",
       "    <tr>\n",
       "      <th>1976-11-30</th>\n",
       "      <td>0.154412</td>\n",
       "      <td>NaN</td>\n",
       "      <td>0.044643</td>\n",
       "      <td>NaN</td>\n",
       "    </tr>\n",
       "    <tr>\n",
       "      <th>1976-12-31</th>\n",
       "      <td>0.146497</td>\n",
       "      <td>NaN</td>\n",
       "      <td>0.158803</td>\n",
       "      <td>NaN</td>\n",
       "    </tr>\n",
       "    <tr>\n",
       "      <th>1977-01-31</th>\n",
       "      <td>0.000000</td>\n",
       "      <td>NaN</td>\n",
       "      <td>-0.052045</td>\n",
       "      <td>NaN</td>\n",
       "    </tr>\n",
       "    <tr>\n",
       "      <th>1977-02-28</th>\n",
       "      <td>0.000000</td>\n",
       "      <td>NaN</td>\n",
       "      <td>0.027451</td>\n",
       "      <td>NaN</td>\n",
       "    </tr>\n",
       "  </tbody>\n",
       "</table>\n",
       "</div>"
      ],
      "text/plain": [
       "            Berkshire Hathaway, total return  \\\n",
       "date                                           \n",
       "1976-10-29                               NaN   \n",
       "1976-11-30                          0.154412   \n",
       "1976-12-31                          0.146497   \n",
       "1977-01-31                          0.000000   \n",
       "1977-02-28                          0.000000   \n",
       "\n",
       "            Public stocks from 13F, total return  Heinz, total return  \\\n",
       "date                                                                    \n",
       "1976-10-29                                   NaN                  NaN   \n",
       "1976-11-30                                   NaN             0.044643   \n",
       "1976-12-31                                   NaN             0.158803   \n",
       "1977-01-31                                   NaN            -0.052045   \n",
       "1977-02-28                                   NaN             0.027451   \n",
       "\n",
       "            Kraft, total return  \n",
       "date                             \n",
       "1976-10-29                  NaN  \n",
       "1976-11-30                  NaN  \n",
       "1976-12-31                  NaN  \n",
       "1977-01-31                  NaN  \n",
       "1977-02-28                  NaN  "
      ]
     },
     "execution_count": 4,
     "metadata": {},
     "output_type": "execute_result"
    }
   ],
   "source": [
    "data.head()"
   ]
  },
  {
   "cell_type": "code",
   "execution_count": 5,
   "metadata": {},
   "outputs": [
    {
     "data": {
      "text/plain": [
       "date\n",
       "1976-11-30    0.154412\n",
       "1976-12-31    0.146497\n",
       "1977-01-31    0.000000\n",
       "1977-02-28    0.000000\n",
       "1977-03-31    0.077778\n",
       "                ...   \n",
       "2016-11-30    0.094743\n",
       "2016-12-30    0.032729\n",
       "2017-01-31    0.007356\n",
       "2017-02-28    0.044759\n",
       "2017-03-31   -0.027909\n",
       "Name: Berkshire Hathaway, total return, Length: 485, dtype: float64"
      ]
     },
     "execution_count": 5,
     "metadata": {},
     "output_type": "execute_result"
    }
   ],
   "source": [
    "y = data['Berkshire Hathaway, total return'].dropna()\n",
    "y"
   ]
  },
  {
   "cell_type": "code",
   "execution_count": 6,
   "metadata": {},
   "outputs": [],
   "source": [
    "X1 = factor['Mkt-RF'].reindex(y.index)\n",
    "X3 = factor[['Mkt-RF','SMB','HML']].reindex(y.index)\n",
    "X5 = factor[['Mkt-RF','SMB','HML','BAB','QMJ']].reindex(y.index)"
   ]
  },
  {
   "cell_type": "code",
   "execution_count": 7,
   "metadata": {},
   "outputs": [],
   "source": [
    "model1 = sm.OLS(y,sm.add_constant(X1)).fit()\n",
    "model3 = sm.OLS(y,sm.add_constant(X3)).fit()\n",
    "model5 = sm.OLS(y,sm.add_constant(X5)).fit()"
   ]
  },
  {
   "cell_type": "code",
   "execution_count": 8,
   "metadata": {},
   "outputs": [
    {
     "name": "stdout",
     "output_type": "stream",
     "text": [
      "alpha: 0.015\n",
      "beta: 0.6844675870372392\n"
     ]
    }
   ],
   "source": [
    "alpha1 = model1.params[0]\n",
    "beta1 = model1.params[1]\n",
    "print('alpha:',round(alpha1,4))\n",
    "print('beta:',beta1)"
   ]
  },
  {
   "cell_type": "code",
   "execution_count": 9,
   "metadata": {},
   "outputs": [
    {
     "name": "stdout",
     "output_type": "stream",
     "text": [
      "alpha: 0.0135\n"
     ]
    },
    {
     "data": {
      "text/plain": [
       "Mkt-RF    0.815344\n",
       "SMB      -0.287069\n",
       "HML       0.454914\n",
       "dtype: float64"
      ]
     },
     "execution_count": 9,
     "metadata": {},
     "output_type": "execute_result"
    }
   ],
   "source": [
    "alpha3 = model3.params[0]\n",
    "beta3 = model3.params[1:4]\n",
    "print('alpha:',round(alpha3,4))\n",
    "beta3"
   ]
  },
  {
   "cell_type": "code",
   "execution_count": 10,
   "metadata": {},
   "outputs": [
    {
     "name": "stdout",
     "output_type": "stream",
     "text": [
      "alpha: 0.0081\n"
     ]
    }
   ],
   "source": [
    "alpha5 = model5.params[0]\n",
    "beta5 = model5.params[1:6]\n",
    "print('alpha:',round(alpha5,4))"
   ]
  },
  {
   "cell_type": "code",
   "execution_count": 11,
   "metadata": {},
   "outputs": [],
   "source": [
    "y = data['Public stocks from 13F, total return'].dropna()\n",
    "X1 = factor['Mkt-RF'].reindex(y.index)\n",
    "X3 = factor[['Mkt-RF','SMB','HML']].reindex(y.index)\n",
    "X5 = factor[['Mkt-RF','SMB','HML','BAB','QMJ']].reindex(y.index)"
   ]
  },
  {
   "cell_type": "code",
   "execution_count": 12,
   "metadata": {},
   "outputs": [],
   "source": [
    "model1 = sm.OLS(y,sm.add_constant(X1)).fit()\n",
    "model3 = sm.OLS(y,sm.add_constant(X3)).fit()\n",
    "model5 = sm.OLS(y,sm.add_constant(X5)).fit()"
   ]
  },
  {
   "cell_type": "code",
   "execution_count": 13,
   "metadata": {},
   "outputs": [
    {
     "name": "stdout",
     "output_type": "stream",
     "text": [
      "alpha: 0.0084\n",
      "beta: 0.767613012388837\n"
     ]
    }
   ],
   "source": [
    "alpha1 = model1.params[0]\n",
    "beta1 = model1.params[1]\n",
    "print('alpha:',round(alpha1,4))\n",
    "print('beta:',beta1)"
   ]
  },
  {
   "cell_type": "code",
   "execution_count": 14,
   "metadata": {},
   "outputs": [
    {
     "name": "stdout",
     "output_type": "stream",
     "text": [
      "alpha: 0.0072\n"
     ]
    },
    {
     "data": {
      "text/plain": [
       "Mkt-RF    0.852077\n",
       "SMB      -0.192723\n",
       "HML       0.294334\n",
       "dtype: float64"
      ]
     },
     "execution_count": 14,
     "metadata": {},
     "output_type": "execute_result"
    }
   ],
   "source": [
    "alpha3 = model3.params[0]\n",
    "beta3 = model3.params[1:4]\n",
    "print('alpha:',round(alpha3,4))\n",
    "beta3"
   ]
  },
  {
   "cell_type": "code",
   "execution_count": 24,
   "metadata": {},
   "outputs": [
    {
     "name": "stdout",
     "output_type": "stream",
     "text": [
      "alpha: 0.0036\n"
     ]
    }
   ],
   "source": [
    "alpha5 = model5.params[0]\n",
    "beta5 = model5.params[1:6]\n",
    "print('alpha:',round(alpha5,4))"
   ]
  },
  {
   "cell_type": "code",
   "execution_count": 192,
   "metadata": {},
   "outputs": [
    {
     "data": {
      "text/plain": [
       "[10.08, 8.64, 4.32]"
      ]
     },
     "execution_count": 192,
     "metadata": {},
     "output_type": "execute_result"
    }
   ],
   "source": [
    "alpha=[alpha1,alpha3,alpha5]\n",
    "alph = []\n",
    "for i in alpha:\n",
    "    alph.append(round(i,4) * 100 * 12)\n",
    "alph"
   ]
  },
  {
   "cell_type": "code",
   "execution_count": 180,
   "metadata": {},
   "outputs": [],
   "source": [
    "from stargazer.stargazer import Stargazer"
   ]
  },
  {
   "cell_type": "code",
   "execution_count": 193,
   "metadata": {},
   "outputs": [
    {
     "data": {
      "text/html": [
       "<table style=\"text-align:center\"><tr><td colspan=\"4\" style=\"border-bottom: 1px solid black\"></td></tr><tr><td style=\"text-align:left\"></td><td colspan=\"3\"><em>Dependent variable:Public stocks from 13F, total return</em></td></tr><tr><td style=\"text-align:left\"></td><tr><td style=\"text-align:left\"></td><td>(1)</td><td>(2)</td><td>(3)</td></tr><tr><td colspan=\"4\" style=\"border-bottom: 1px solid black\"></td></tr><tr><td style=\"text-align:left\">const</td><td>0.008<sup>***</sup></td><td>0.007<sup>***</sup></td><td>0.004<sup>**</sup></td></tr><tr><td style=\"text-align:left\"></td><td>(0.002)</td><td>(0.002)</td><td>(0.002)</td></tr><tr><td style=\"text-align:left\">Mkt-RF</td><td>0.768<sup>***</sup></td><td>0.852<sup>***</sup></td><td>0.961<sup>***</sup></td></tr><tr><td style=\"text-align:left\"></td><td>(0.035)</td><td>(0.035)</td><td>(0.041)</td></tr><tr><td style=\"text-align:left\">HML</td><td></td><td>0.294<sup>***</sup></td><td>0.305<sup>***</sup></td></tr><tr><td style=\"text-align:left\"></td><td></td><td>(0.053)</td><td>(0.057)</td></tr><tr><td style=\"text-align:left\">SMB</td><td></td><td>-0.193<sup>***</sup></td><td>-0.072<sup></sup></td></tr><tr><td style=\"text-align:left\"></td><td></td><td>(0.051)</td><td>(0.058)</td></tr><tr><td style=\"text-align:left\">BAB</td><td></td><td></td><td>0.113<sup>**</sup></td></tr><tr><td style=\"text-align:left\"></td><td></td><td></td><td>(0.045)</td></tr><tr><td style=\"text-align:left\">QMJ</td><td></td><td></td><td>0.334<sup>***</sup></td></tr><tr><td style=\"text-align:left\"></td><td></td><td></td><td>(0.080)</td></tr><tr><td style=\"text-align: left\">Alpha in %</td><td>10.08</td><td>8.64</td><td>4.32</td></tr><td colspan=\"4\" style=\"border-bottom: 1px solid black\"></td></tr><tr><td style=\"text-align: left\">Observations</td><td>444</td><td>444</td><td>444</td></tr><tr><td style=\"text-align: left\">R<sup>2</sup></td><td>0.516</td><td>0.572</td><td>0.601</td></tr><tr><td style=\"text-align: left\">Adjusted R<sup>2</sup></td><td>0.515</td><td>0.569</td><td>0.596</td></tr><tr><td style=\"text-align: left\">Residual Std. Error</td><td>0.033 (df=442)</td><td>0.031 (df=440)</td><td>0.030 (df=438)</td></tr><tr><td style=\"text-align: left\">F Statistic</td><td>471.170<sup>***</sup> (df=1; 442)</td><td>195.948<sup>***</sup> (df=3; 440)</td><td>131.746<sup>***</sup> (df=5; 438)</td></tr><tr><td colspan=\"4\" style=\"border-bottom: 1px solid black\"></td></tr><tr><td style=\"text-align: left\">Note:</td>\n",
       " <td colspan=\"3\" style=\"text-align: right\">\n",
       "  <sup>*</sup>p&lt;0.1;\n",
       "  <sup>**</sup>p&lt;0.05;\n",
       "  <sup>***</sup>p&lt;0.01\n",
       " </td></tr></table>"
      ],
      "text/plain": [
       "<stargazer.stargazer.Stargazer at 0x7fee18217820>"
      ]
     },
     "execution_count": 193,
     "metadata": {},
     "output_type": "execute_result"
    }
   ],
   "source": [
    "stargazer = Stargazer([model1,model3,model5])\n",
    "stargazer.covariate_order(['const','Mkt-RF','HML','SMB','BAB','QMJ'])\n",
    "stargazer.add_line('Alpha in %', alph)\n",
    "stargazer"
   ]
  },
  {
   "cell_type": "code",
   "execution_count": 89,
   "metadata": {},
   "outputs": [
    {
     "data": {
      "image/png": "[encoded data removed]",
      "text/plain": [
       "<Figure size 432x288 with 1 Axes>"
      ]
     },
     "metadata": {
      "needs_background": "light"
     },
     "output_type": "display_data"
    }
   ],
   "source": [
    "x=pd.DataFrame([alpha1,alpha3,alpha5],index=['model1','model3','model5']).T\n",
    "x.plot.bar(title='ALPHA',xlabel='models',ylabel='alpha');"
   ]
  },
  {
   "cell_type": "code",
   "execution_count": 75,
   "metadata": {},
   "outputs": [],
   "source": [
    "bet1 = [beta1]\n",
    "bet1.append(0)\n",
    "bet1.append(0)\n",
    "bet1.append(0)\n",
    "bet1.append(0)\n",
    "\n",
    "bet3=[]\n",
    "for i in beta3.values:\n",
    "    bet3.append(i)\n",
    "bet3.append(0)\n",
    "bet3.append(0)\n",
    "\n",
    "bet5=[]\n",
    "for i in beta5.values:\n",
    "    bet5.append(i)"
   ]
  },
  {
   "cell_type": "code",
   "execution_count": 79,
   "metadata": {},
   "outputs": [
    {
     "data": {
      "text/html": [
       "<div>\n",
       "<style scoped>\n",
       "    .dataframe tbody tr th:only-of-type {\n",
       "        vertical-align: middle;\n",
       "    }\n",
       "\n",
       "    .dataframe tbody tr th {\n",
       "        vertical-align: top;\n",
       "    }\n",
       "\n",
       "    .dataframe thead th {\n",
       "        text-align: right;\n",
       "    }\n",
       "</style>\n",
       "<table border=\"1\" class=\"dataframe\">\n",
       "  <thead>\n",
       "    <tr style=\"text-align: right;\">\n",
       "      <th></th>\n",
       "      <th>Mkt-RF</th>\n",
       "      <th>SMB</th>\n",
       "      <th>HML</th>\n",
       "      <th>BAB</th>\n",
       "      <th>QMJ</th>\n",
       "    </tr>\n",
       "  </thead>\n",
       "  <tbody>\n",
       "    <tr>\n",
       "      <th>Model1</th>\n",
       "      <td>0.767613</td>\n",
       "      <td>0.000000</td>\n",
       "      <td>0.000000</td>\n",
       "      <td>0.00000</td>\n",
       "      <td>0.000000</td>\n",
       "    </tr>\n",
       "    <tr>\n",
       "      <th>Model3</th>\n",
       "      <td>0.852077</td>\n",
       "      <td>-0.192723</td>\n",
       "      <td>0.294334</td>\n",
       "      <td>0.00000</td>\n",
       "      <td>0.000000</td>\n",
       "    </tr>\n",
       "    <tr>\n",
       "      <th>Model5</th>\n",
       "      <td>0.961198</td>\n",
       "      <td>-0.072415</td>\n",
       "      <td>0.304539</td>\n",
       "      <td>0.11288</td>\n",
       "      <td>0.333723</td>\n",
       "    </tr>\n",
       "  </tbody>\n",
       "</table>\n",
       "</div>"
      ],
      "text/plain": [
       "          Mkt-RF       SMB       HML      BAB       QMJ\n",
       "Model1  0.767613  0.000000  0.000000  0.00000  0.000000\n",
       "Model3  0.852077 -0.192723  0.294334  0.00000  0.000000\n",
       "Model5  0.961198 -0.072415  0.304539  0.11288  0.333723"
      ]
     },
     "execution_count": 79,
     "metadata": {},
     "output_type": "execute_result"
    }
   ],
   "source": [
    "pd.DataFrame([bet1,bet3,bet5],columns=beta5.index,index=['Model1','Model3','Model5'])"
   ]
  },
  {
   "cell_type": "code",
   "execution_count": 112,
   "metadata": {},
   "outputs": [],
   "source": [
    "d1 = data['Berkshire Hathaway, total return'].dropna()\n",
    "d2 = data['Public stocks from 13F, total return'].dropna()"
   ]
  },
  {
   "cell_type": "code",
   "execution_count": 138,
   "metadata": {},
   "outputs": [
    {
     "data": {
      "text/html": [
       "<div>\n",
       "<style scoped>\n",
       "    .dataframe tbody tr th:only-of-type {\n",
       "        vertical-align: middle;\n",
       "    }\n",
       "\n",
       "    .dataframe tbody tr th {\n",
       "        vertical-align: top;\n",
       "    }\n",
       "\n",
       "    .dataframe thead th {\n",
       "        text-align: right;\n",
       "    }\n",
       "</style>\n",
       "<table border=\"1\" class=\"dataframe\">\n",
       "  <thead>\n",
       "    <tr style=\"text-align: right;\">\n",
       "      <th></th>\n",
       "      <th>Berkshire Hathaway, total return</th>\n",
       "      <th>Public stocks from 13F, total return</th>\n",
       "    </tr>\n",
       "    <tr>\n",
       "      <th>date</th>\n",
       "      <th></th>\n",
       "      <th></th>\n",
       "    </tr>\n",
       "  </thead>\n",
       "  <tbody>\n",
       "    <tr>\n",
       "      <th>1980-04-30</th>\n",
       "      <td>0.074074</td>\n",
       "      <td>0.068192</td>\n",
       "    </tr>\n",
       "    <tr>\n",
       "      <th>1980-05-30</th>\n",
       "      <td>0.137931</td>\n",
       "      <td>0.092465</td>\n",
       "    </tr>\n",
       "    <tr>\n",
       "      <th>1980-06-30</th>\n",
       "      <td>-0.060606</td>\n",
       "      <td>0.038221</td>\n",
       "    </tr>\n",
       "    <tr>\n",
       "      <th>1980-07-31</th>\n",
       "      <td>0.129032</td>\n",
       "      <td>0.077582</td>\n",
       "    </tr>\n",
       "    <tr>\n",
       "      <th>1980-08-29</th>\n",
       "      <td>0.100000</td>\n",
       "      <td>0.041391</td>\n",
       "    </tr>\n",
       "    <tr>\n",
       "      <th>...</th>\n",
       "      <td>...</td>\n",
       "      <td>...</td>\n",
       "    </tr>\n",
       "    <tr>\n",
       "      <th>2016-11-30</th>\n",
       "      <td>0.094743</td>\n",
       "      <td>0.035223</td>\n",
       "    </tr>\n",
       "    <tr>\n",
       "      <th>2016-12-30</th>\n",
       "      <td>0.032729</td>\n",
       "      <td>0.037166</td>\n",
       "    </tr>\n",
       "    <tr>\n",
       "      <th>2017-01-31</th>\n",
       "      <td>0.007356</td>\n",
       "      <td>0.021025</td>\n",
       "    </tr>\n",
       "    <tr>\n",
       "      <th>2017-02-28</th>\n",
       "      <td>0.044759</td>\n",
       "      <td>0.037617</td>\n",
       "    </tr>\n",
       "    <tr>\n",
       "      <th>2017-03-31</th>\n",
       "      <td>-0.027909</td>\n",
       "      <td>-0.014114</td>\n",
       "    </tr>\n",
       "  </tbody>\n",
       "</table>\n",
       "<p>444 rows × 2 columns</p>\n",
       "</div>"
      ],
      "text/plain": [
       "            Berkshire Hathaway, total return  \\\n",
       "date                                           \n",
       "1980-04-30                          0.074074   \n",
       "1980-05-30                          0.137931   \n",
       "1980-06-30                         -0.060606   \n",
       "1980-07-31                          0.129032   \n",
       "1980-08-29                          0.100000   \n",
       "...                                      ...   \n",
       "2016-11-30                          0.094743   \n",
       "2016-12-30                          0.032729   \n",
       "2017-01-31                          0.007356   \n",
       "2017-02-28                          0.044759   \n",
       "2017-03-31                         -0.027909   \n",
       "\n",
       "            Public stocks from 13F, total return  \n",
       "date                                              \n",
       "1980-04-30                              0.068192  \n",
       "1980-05-30                              0.092465  \n",
       "1980-06-30                              0.038221  \n",
       "1980-07-31                              0.077582  \n",
       "1980-08-29                              0.041391  \n",
       "...                                          ...  \n",
       "2016-11-30                              0.035223  \n",
       "2016-12-30                              0.037166  \n",
       "2017-01-31                              0.021025  \n",
       "2017-02-28                              0.037617  \n",
       "2017-03-31                             -0.014114  \n",
       "\n",
       "[444 rows x 2 columns]"
      ]
     },
     "execution_count": 138,
     "metadata": {},
     "output_type": "execute_result"
    }
   ],
   "source": [
    "df = pd.concat([d1,d2],axis=1).dropna()\n",
    "df"
   ]
  },
  {
   "cell_type": "code",
   "execution_count": 146,
   "metadata": {},
   "outputs": [
    {
     "data": {
      "text/html": [
       "<div>\n",
       "<style scoped>\n",
       "    .dataframe tbody tr th:only-of-type {\n",
       "        vertical-align: middle;\n",
       "    }\n",
       "\n",
       "    .dataframe tbody tr th {\n",
       "        vertical-align: top;\n",
       "    }\n",
       "\n",
       "    .dataframe thead th {\n",
       "        text-align: right;\n",
       "    }\n",
       "</style>\n",
       "<table border=\"1\" class=\"dataframe\">\n",
       "  <thead>\n",
       "    <tr style=\"text-align: right;\">\n",
       "      <th></th>\n",
       "      <th>Berkshire Hathaway, total return</th>\n",
       "      <th>Public stocks from 13F, total return</th>\n",
       "    </tr>\n",
       "    <tr>\n",
       "      <th>date</th>\n",
       "      <th></th>\n",
       "      <th></th>\n",
       "    </tr>\n",
       "  </thead>\n",
       "  <tbody>\n",
       "    <tr>\n",
       "      <th>1980-04-30</th>\n",
       "      <td>0.061474</td>\n",
       "      <td>0.055592</td>\n",
       "    </tr>\n",
       "    <tr>\n",
       "      <th>1980-05-30</th>\n",
       "      <td>0.129831</td>\n",
       "      <td>0.084365</td>\n",
       "    </tr>\n",
       "    <tr>\n",
       "      <th>1980-06-30</th>\n",
       "      <td>-0.066706</td>\n",
       "      <td>0.032121</td>\n",
       "    </tr>\n",
       "    <tr>\n",
       "      <th>1980-07-31</th>\n",
       "      <td>0.123732</td>\n",
       "      <td>0.072282</td>\n",
       "    </tr>\n",
       "    <tr>\n",
       "      <th>1980-08-29</th>\n",
       "      <td>0.093600</td>\n",
       "      <td>0.034991</td>\n",
       "    </tr>\n",
       "    <tr>\n",
       "      <th>...</th>\n",
       "      <td>...</td>\n",
       "      <td>...</td>\n",
       "    </tr>\n",
       "    <tr>\n",
       "      <th>2016-11-30</th>\n",
       "      <td>0.094643</td>\n",
       "      <td>0.035123</td>\n",
       "    </tr>\n",
       "    <tr>\n",
       "      <th>2016-12-30</th>\n",
       "      <td>0.032429</td>\n",
       "      <td>0.036866</td>\n",
       "    </tr>\n",
       "    <tr>\n",
       "      <th>2017-01-31</th>\n",
       "      <td>0.006956</td>\n",
       "      <td>0.020625</td>\n",
       "    </tr>\n",
       "    <tr>\n",
       "      <th>2017-02-28</th>\n",
       "      <td>0.044359</td>\n",
       "      <td>0.037217</td>\n",
       "    </tr>\n",
       "    <tr>\n",
       "      <th>2017-03-31</th>\n",
       "      <td>-0.028209</td>\n",
       "      <td>-0.014414</td>\n",
       "    </tr>\n",
       "  </tbody>\n",
       "</table>\n",
       "<p>444 rows × 2 columns</p>\n",
       "</div>"
      ],
      "text/plain": [
       "            Berkshire Hathaway, total return  \\\n",
       "date                                           \n",
       "1980-04-30                          0.061474   \n",
       "1980-05-30                          0.129831   \n",
       "1980-06-30                         -0.066706   \n",
       "1980-07-31                          0.123732   \n",
       "1980-08-29                          0.093600   \n",
       "...                                      ...   \n",
       "2016-11-30                          0.094643   \n",
       "2016-12-30                          0.032429   \n",
       "2017-01-31                          0.006956   \n",
       "2017-02-28                          0.044359   \n",
       "2017-03-31                         -0.028209   \n",
       "\n",
       "            Public stocks from 13F, total return  \n",
       "date                                              \n",
       "1980-04-30                              0.055592  \n",
       "1980-05-30                              0.084365  \n",
       "1980-06-30                              0.032121  \n",
       "1980-07-31                              0.072282  \n",
       "1980-08-29                              0.034991  \n",
       "...                                          ...  \n",
       "2016-11-30                              0.035123  \n",
       "2016-12-30                              0.036866  \n",
       "2017-01-31                              0.020625  \n",
       "2017-02-28                              0.037217  \n",
       "2017-03-31                             -0.014414  \n",
       "\n",
       "[444 rows x 2 columns]"
      ]
     },
     "execution_count": 146,
     "metadata": {},
     "output_type": "execute_result"
    }
   ],
   "source": [
    "exc_rets = df.sub(factor['RF'].reindex(df.index),axis=0)\n",
    "exc_rets"
   ]
  },
  {
   "cell_type": "code",
   "execution_count": 178,
   "metadata": {},
   "outputs": [],
   "source": [
    "def fun(x,n,y):\n",
    "    x1 = x.iloc[:,n]\n",
    "    mean1 = x1.mean() * 12\n",
    "    std1 = x1.std()*np.sqrt(12)\n",
    "    sr1 = mean1 / std1\n",
    "    x2 = x.iloc[:,y]\n",
    "    mean2 = x2.mean() * 12\n",
    "    std2 = x2.std()*np.sqrt(12)\n",
    "    sr2 = mean2 / std2\n",
    "    res = pd.DataFrame(data=[[mean1,std1,sr1],[mean2,std2,sr2]],columns=['rRets','std','SR'])\n",
    "    res.index = ['Berkshire','Portfolio']\n",
    "    return res"
   ]
  },
  {
   "cell_type": "code",
   "execution_count": 179,
   "metadata": {},
   "outputs": [
    {
     "data": {
      "text/html": [
       "<div>\n",
       "<style scoped>\n",
       "    .dataframe tbody tr th:only-of-type {\n",
       "        vertical-align: middle;\n",
       "    }\n",
       "\n",
       "    .dataframe tbody tr th {\n",
       "        vertical-align: top;\n",
       "    }\n",
       "\n",
       "    .dataframe thead th {\n",
       "        text-align: right;\n",
       "    }\n",
       "</style>\n",
       "<table border=\"1\" class=\"dataframe\">\n",
       "  <thead>\n",
       "    <tr style=\"text-align: right;\">\n",
       "      <th></th>\n",
       "      <th>rRets</th>\n",
       "      <th>std</th>\n",
       "      <th>SR</th>\n",
       "    </tr>\n",
       "  </thead>\n",
       "  <tbody>\n",
       "    <tr>\n",
       "      <th>Berkshire</th>\n",
       "      <td>0.167366</td>\n",
       "      <td>0.223048</td>\n",
       "      <td>0.750361</td>\n",
       "    </tr>\n",
       "    <tr>\n",
       "      <th>Portfolio</th>\n",
       "      <td>0.120314</td>\n",
       "      <td>0.162465</td>\n",
       "      <td>0.740553</td>\n",
       "    </tr>\n",
       "  </tbody>\n",
       "</table>\n",
       "</div>"
      ],
      "text/plain": [
       "              rRets       std        SR\n",
       "Berkshire  0.167366  0.223048  0.750361\n",
       "Portfolio  0.120314  0.162465  0.740553"
      ]
     },
     "execution_count": 179,
     "metadata": {},
     "output_type": "execute_result"
    }
   ],
   "source": [
    "fun(exc_rets,0,1)"
   ]
  }
 ],
 "metadata": {
  "kernelspec": {
   "display_name": "Python 3",
   "language": "python",
   "name": "python3"
  },
  "language_info": {
   "codemirror_mode": {
    "name": "ipython",
    "version": 3
   },
   "file_extension": ".py",
   "mimetype": "text/x-python",
   "name": "python",
   "nbconvert_exporter": "python",
   "pygments_lexer": "ipython3",
   "version": "3.8.5"
  }
 },
 "nbformat": 4,
 "nbformat_minor": 4
}
